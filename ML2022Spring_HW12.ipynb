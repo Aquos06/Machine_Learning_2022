{
  "cells": [
    {
      "cell_type": "markdown",
      "metadata": {
        "id": "Fp30SB4bxeQb"
      },
      "source": [
        "# **Homework 12 - Reinforcement Learning**\n",
        "\n",
        "If you have any problem, e-mail us at ntu-ml-2022spring-ta@googlegroups.com\n",
        "\n"
      ]
    },
    {
      "cell_type": "markdown",
      "metadata": {
        "id": "yXsnCWPtWSNk"
      },
      "source": [
        "## Preliminary work\n",
        "\n",
        "First, we need to install all necessary packages.\n",
        "One of them, gym, builded by OpenAI, is a toolkit for developing Reinforcement Learning algorithm. Other packages are for visualization in colab."
      ]
    },
    {
      "cell_type": "code",
      "execution_count": null,
      "metadata": {
        "colab": {
          "base_uri": "https://localhost:8080/"
        },
        "id": "5e2bScpnkVbv",
        "outputId": "3caa7468-b9ae-4d57-d733-1c23955d42f4"
      },
      "outputs": [
        {
          "output_type": "stream",
          "name": "stdout",
          "text": [
            "\u001b[33m\r0% [Working]\u001b[0m\r            \rHit:1 https://developer.download.nvidia.com/compute/cuda/repos/ubuntu1804/x86_64  InRelease\n",
            "\u001b[33m\r0% [Connecting to archive.ubuntu.com] [Connecting to security.ubuntu.com] [Wait\u001b[0m\r                                                                               \rHit:2 https://cloud.r-project.org/bin/linux/ubuntu bionic-cran40/ InRelease\n",
            "\u001b[33m\r0% [Connecting to archive.ubuntu.com] [Connecting to security.ubuntu.com] [Conn\u001b[0m\u001b[33m\r0% [1 InRelease gpgv 1,581 B] [Connecting to archive.ubuntu.com] [Connecting to\u001b[0m\r                                                                               \rIgn:3 https://developer.download.nvidia.com/compute/machine-learning/repos/ubuntu1804/x86_64  InRelease\n",
            "Hit:4 https://developer.download.nvidia.com/compute/machine-learning/repos/ubuntu1804/x86_64  Release\n",
            "Hit:5 http://security.ubuntu.com/ubuntu bionic-security InRelease\n",
            "Hit:6 http://archive.ubuntu.com/ubuntu bionic InRelease\n",
            "Hit:7 http://archive.ubuntu.com/ubuntu bionic-updates InRelease\n",
            "Hit:8 http://ppa.launchpad.net/c2d4u.team/c2d4u4.0+/ubuntu bionic InRelease\n",
            "Hit:9 http://archive.ubuntu.com/ubuntu bionic-backports InRelease\n",
            "Hit:11 http://ppa.launchpad.net/cran/libgit2/ubuntu bionic InRelease\n",
            "Hit:12 http://ppa.launchpad.net/deadsnakes/ppa/ubuntu bionic InRelease\n",
            "Hit:13 http://ppa.launchpad.net/graphics-drivers/ppa/ubuntu bionic InRelease\n",
            "Reading package lists... Done\n",
            "Building dependency tree       \n",
            "Reading state information... Done\n",
            "87 packages can be upgraded. Run 'apt list --upgradable' to see them.\n",
            "Reading package lists... Done\n",
            "Building dependency tree       \n",
            "Reading state information... Done\n",
            "python-opengl is already the newest version (3.1.0+dfsg-1).\n",
            "xvfb is already the newest version (2:1.19.6-1ubuntu4.10).\n",
            "The following package was automatically installed and is no longer required:\n",
            "  libnvidia-common-460\n",
            "Use 'apt autoremove' to remove it.\n",
            "0 upgraded, 0 newly installed, 0 to remove and 87 not upgraded.\n",
            "Looking in indexes: https://pypi.org/simple, https://us-python.pkg.dev/colab-wheels/public/simple/\n",
            "Requirement already satisfied: gym[box2d]==0.18.3 in /usr/local/lib/python3.7/dist-packages (0.18.3)\n",
            "Requirement already satisfied: pyvirtualdisplay in /usr/local/lib/python3.7/dist-packages (3.0)\n",
            "Requirement already satisfied: tqdm in /usr/local/lib/python3.7/dist-packages (4.64.0)\n",
            "Requirement already satisfied: numpy==1.19.5 in /usr/local/lib/python3.7/dist-packages (1.19.5)\n",
            "Requirement already satisfied: torch==1.8.1 in /usr/local/lib/python3.7/dist-packages (1.8.1)\n",
            "Requirement already satisfied: typing-extensions in /usr/local/lib/python3.7/dist-packages (from torch==1.8.1) (4.2.0)\n",
            "Requirement already satisfied: pyglet<=1.5.15,>=1.4.0 in /usr/local/lib/python3.7/dist-packages (from gym[box2d]==0.18.3) (1.5.0)\n",
            "Requirement already satisfied: cloudpickle<1.7.0,>=1.2.0 in /usr/local/lib/python3.7/dist-packages (from gym[box2d]==0.18.3) (1.3.0)\n",
            "Requirement already satisfied: Pillow<=8.2.0 in /usr/local/lib/python3.7/dist-packages (from gym[box2d]==0.18.3) (7.1.2)\n",
            "Requirement already satisfied: scipy in /usr/local/lib/python3.7/dist-packages (from gym[box2d]==0.18.3) (1.4.1)\n",
            "Requirement already satisfied: box2d-py~=2.3.5 in /usr/local/lib/python3.7/dist-packages (from gym[box2d]==0.18.3) (2.3.8)\n",
            "Requirement already satisfied: future in /usr/local/lib/python3.7/dist-packages (from pyglet<=1.5.15,>=1.4.0->gym[box2d]==0.18.3) (0.16.0)\n"
          ]
        }
      ],
      "source": [
        "!apt update\n",
        "!apt install python-opengl xvfb -y\n",
        "!pip install gym[box2d]==0.18.3 pyvirtualdisplay tqdm numpy==1.19.5 torch==1.8.1"
      ]
    },
    {
      "cell_type": "markdown",
      "metadata": {
        "id": "M_-i3cdoYsks"
      },
      "source": [
        "\n",
        "Next, set up virtual display，and import all necessaary packages."
      ]
    },
    {
      "cell_type": "code",
      "execution_count": null,
      "metadata": {
        "id": "nl2nREINDLiw"
      },
      "outputs": [],
      "source": [
        "%%capture\n",
        "from pyvirtualdisplay import Display\n",
        "virtual_display = Display(visible=0, size=(1400, 900))\n",
        "virtual_display.start()\n",
        "\n",
        "%matplotlib inline\n",
        "import matplotlib.pyplot as plt\n",
        "\n",
        "from IPython import display\n",
        "\n",
        "import numpy as np\n",
        "import torch\n",
        "import torch.nn as nn\n",
        "import torch.optim as optim\n",
        "import torch.nn.functional as F\n",
        "from torch.distributions import Categorical\n",
        "from tqdm.notebook import tqdm"
      ]
    },
    {
      "cell_type": "markdown",
      "metadata": {
        "id": "CaEJ8BUCpN9P"
      },
      "source": [
        "# Warning ! Do not revise random seed !!!\n",
        "# Your submission on JudgeBoi will not reproduce your result !!!\n",
        "Make your HW result to be reproducible.\n"
      ]
    },
    {
      "cell_type": "code",
      "execution_count": null,
      "metadata": {
        "id": "fV9i8i2YkRbO"
      },
      "outputs": [],
      "source": [
        "seed = 543 # Do not change this\n",
        "def fix(env, seed):\n",
        "  env.seed(seed)\n",
        "  env.action_space.seed(seed)\n",
        "  torch.manual_seed(seed)\n",
        "  torch.cuda.manual_seed(seed)\n",
        "  torch.cuda.manual_seed_all(seed)\n",
        "  np.random.seed(seed)\n",
        "  random.seed(seed)\n",
        "  torch.set_deterministic(True)\n",
        "  torch.backends.cudnn.benchmark = False\n",
        "  torch.backends.cudnn.deterministic = True"
      ]
    },
    {
      "cell_type": "markdown",
      "metadata": {
        "id": "He0XDx6bzjgC"
      },
      "source": [
        "Last, call gym and build an [Lunar Lander](https://gym.openai.com/envs/LunarLander-v2/) environment."
      ]
    },
    {
      "cell_type": "code",
      "execution_count": null,
      "metadata": {
        "id": "N_4-xJcbBt09"
      },
      "outputs": [],
      "source": [
        "%%capture\n",
        "import gym\n",
        "import random\n",
        "env = gym.make('LunarLander-v2')\n",
        "fix(env, seed) # fix the environment Do not revise this !!!"
      ]
    },
    {
      "cell_type": "markdown",
      "metadata": {
        "id": "NrkVvTrvWZ5H"
      },
      "source": [
        "## What Lunar Lander？\n",
        "\n",
        "“LunarLander-v2”is to simulate the situation when the craft lands on the surface of the moon.\n",
        "\n",
        "This task is to enable the craft to land \"safely\" at the pad between the two yellow flags.\n",
        "> Landing pad is always at coordinates (0,0).\n",
        "> Coordinates are the first two numbers in state vector.\n",
        "\n",
        "![](https://gym.openai.com/assets/docs/aeloop-138c89d44114492fd02822303e6b4b07213010bb14ca5856d2d49d6b62d88e53.svg)\n",
        "\n",
        "\"LunarLander-v2\" actually includes \"Agent\" and \"Environment\". \n",
        "\n",
        "In this homework, we will utilize the function `step()` to control the action of \"Agent\". \n",
        "\n",
        "Then `step()` will return the observation/state and reward given by the \"Environment\"."
      ]
    },
    {
      "cell_type": "markdown",
      "metadata": {
        "id": "bIbp82sljvAt"
      },
      "source": [
        "### Observation / State\n",
        "\n",
        "First, we can take a look at what an Observation / State looks like."
      ]
    },
    {
      "cell_type": "code",
      "execution_count": null,
      "metadata": {
        "colab": {
          "base_uri": "https://localhost:8080/"
        },
        "id": "rsXZra3N9R5T",
        "outputId": "08151729-389a-449c-cadb-02d3a3b89194"
      },
      "outputs": [
        {
          "output_type": "stream",
          "name": "stdout",
          "text": [
            "Box(-inf, inf, (8,), float32)\n"
          ]
        }
      ],
      "source": [
        "print(env.observation_space)"
      ]
    },
    {
      "cell_type": "markdown",
      "metadata": {
        "id": "ezdfoThbAQ49"
      },
      "source": [
        "\n",
        "`Box(8,)`means that observation is an 8-dim vector\n",
        "### Action\n",
        "\n",
        "Actions can be taken by looks like"
      ]
    },
    {
      "cell_type": "code",
      "execution_count": null,
      "metadata": {
        "colab": {
          "base_uri": "https://localhost:8080/"
        },
        "id": "p1k4dIrBAaKi",
        "outputId": "4ea44dad-bd3e-4af2-9da9-f68320a3f732"
      },
      "outputs": [
        {
          "output_type": "stream",
          "name": "stdout",
          "text": [
            "Discrete(4)\n"
          ]
        }
      ],
      "source": [
        "print(env.action_space)"
      ]
    },
    {
      "cell_type": "markdown",
      "metadata": {
        "id": "dejXT6PHBrPn"
      },
      "source": [
        "`Discrete(4)` implies that there are four kinds of actions can be taken by agent.\n",
        "- 0 implies the agent will not take any actions\n",
        "- 2 implies the agent will accelerate downward\n",
        "- 1, 3 implies the agent will accelerate left and right\n",
        "\n",
        "Next, we will try to make the agent interact with the environment. \n",
        "Before taking any actions, we recommend to call `reset()` function to reset the environment. Also, this function will return the initial state of the environment."
      ]
    },
    {
      "cell_type": "code",
      "execution_count": null,
      "metadata": {
        "colab": {
          "base_uri": "https://localhost:8080/"
        },
        "id": "pi4OmrmZgnWA",
        "outputId": "5d9df332-0b2a-400d-d10e-be89d8627c98"
      },
      "outputs": [
        {
          "output_type": "stream",
          "name": "stdout",
          "text": [
            "[ 0.00396109  1.4083536   0.40119505 -0.11407257 -0.00458307 -0.09087662\n",
            "  0.          0.        ]\n"
          ]
        }
      ],
      "source": [
        "initial_state = env.reset()\n",
        "print(initial_state)"
      ]
    },
    {
      "cell_type": "markdown",
      "metadata": {
        "id": "uBx0mEqqgxJ9"
      },
      "source": [
        "Then, we try to get a random action from the agent's action space."
      ]
    },
    {
      "cell_type": "code",
      "execution_count": null,
      "metadata": {
        "colab": {
          "base_uri": "https://localhost:8080/"
        },
        "id": "vxkOEXRKgizt",
        "outputId": "aab99d90-2a59-4e5f-87df-5fd6523f98a2"
      },
      "outputs": [
        {
          "output_type": "stream",
          "name": "stdout",
          "text": [
            "0\n"
          ]
        }
      ],
      "source": [
        "random_action = env.action_space.sample()\n",
        "print(random_action)"
      ]
    },
    {
      "cell_type": "markdown",
      "metadata": {
        "id": "mns-bO01g0-J"
      },
      "source": [
        "More, we can utilize `step()` to make agent act according to the randomly-selected `random_action`.\n",
        "The `step()` function will return four values:\n",
        "- observation / state\n",
        "- reward\n",
        "- done (True/ False)\n",
        "- Other information"
      ]
    },
    {
      "cell_type": "code",
      "execution_count": null,
      "metadata": {
        "id": "E_WViSxGgIk9"
      },
      "outputs": [],
      "source": [
        "observation, reward, done, info = env.step(random_action)"
      ]
    },
    {
      "cell_type": "code",
      "execution_count": null,
      "metadata": {
        "colab": {
          "base_uri": "https://localhost:8080/"
        },
        "id": "yK7r126kuCNp",
        "outputId": "cd21d11c-c25d-4355-e566-d495ef6a66b4"
      },
      "outputs": [
        {
          "output_type": "stream",
          "name": "stdout",
          "text": [
            "False\n"
          ]
        }
      ],
      "source": [
        "print(done)"
      ]
    },
    {
      "cell_type": "markdown",
      "metadata": {
        "id": "GKdS8vOihxhc"
      },
      "source": [
        "### Reward\n",
        "\n",
        "\n",
        "> Landing pad is always at coordinates (0,0). Coordinates are the first two numbers in state vector. Reward for moving from the top of the screen to landing pad and zero speed is about 100..140 points. If lander moves away from landing pad it loses reward back. Episode finishes if the lander crashes or comes to rest, receiving additional -100 or +100 points. Each leg ground contact is +10. Firing main engine is -0.3 points each frame. Solved is 200 points. "
      ]
    },
    {
      "cell_type": "code",
      "execution_count": null,
      "metadata": {
        "colab": {
          "base_uri": "https://localhost:8080/"
        },
        "id": "vxQNs77hi0_7",
        "outputId": "73e6d469-0144-4e71-ab84-210abf3f3655"
      },
      "outputs": [
        {
          "output_type": "stream",
          "name": "stdout",
          "text": [
            "-0.8588900517154912\n"
          ]
        }
      ],
      "source": [
        "print(reward)"
      ]
    },
    {
      "cell_type": "markdown",
      "metadata": {
        "id": "Mhqp6D-XgHpe"
      },
      "source": [
        "### Random Agent\n",
        "In the end, before we start training, we can see whether a random agent can successfully land the moon or not."
      ]
    },
    {
      "cell_type": "code",
      "execution_count": null,
      "metadata": {
        "colab": {
          "base_uri": "https://localhost:8080/",
          "height": 269
        },
        "id": "Y3G0bxoccelv",
        "outputId": "009a8c83-ab1e-4686-93ad-dc6ade086fa3"
      },
      "outputs": [
        {
          "output_type": "display_data",
          "data": {
            "text/plain": [
              "<Figure size 432x288 with 1 Axes>"
            ],
            "image/png": "[encoded data removed]"
          },
          "metadata": {
            "needs_background": "light"
          }
        }
      ],
      "source": [
        "env.reset()\n",
        "\n",
        "img = plt.imshow(env.render(mode='rgb_array'))\n",
        "\n",
        "done = False\n",
        "while not done:\n",
        "    action = env.action_space.sample()\n",
        "    observation, reward, done, _ = env.step(action)\n",
        "\n",
        "    img.set_data(env.render(mode='rgb_array'))\n",
        "    display.display(plt.gcf())\n",
        "    display.clear_output(wait=True)"
      ]
    },
    {
      "cell_type": "markdown",
      "metadata": {
        "id": "F5paWqo7tWL2"
      },
      "source": [
        "## Policy Gradient\n",
        "Now, we can build a simple policy network. The network will return one of action in the action space."
      ]
    },
    {
      "cell_type": "code",
      "execution_count": null,
      "metadata": {
        "id": "J8tdmeD-tZew"
      },
      "outputs": [],
      "source": [
        "class PolicyGradientNetwork(nn.Module):\n",
        "\n",
        "    def __init__(self):\n",
        "        super().__init__()\n",
        "        self.fc1 = nn.Linear(8, 128)\n",
        "        self.fc2 = nn.Linear(128,128)\n",
        "        self.fc3 = nn.Linear(128, 4)\n",
        "\n",
        "    def forward(self, state):\n",
        "        hid = torch.tanh(self.fc1(state))\n",
        "        hid = torch.tanh(self.fc2(hid))\n",
        "        return F.softmax(self.fc3(hid), dim=-1)"
      ]
    },
    {
      "cell_type": "markdown",
      "metadata": {
        "id": "ynbqJrhIFTC3"
      },
      "source": [
        "Then, we need to build a simple agent. The agent will acts according to the output of the policy network above. There are a few things can be done by agent:\n",
        "- `learn()`：update the policy network from log probabilities and rewards.\n",
        "- `sample()`：After receiving observation from the environment, utilize policy network to tell which action to take. The return values of this function includes action and log probabilities. "
      ]
    },
    {
      "cell_type": "code",
      "execution_count": null,
      "metadata": {
        "id": "zZo-IxJx286z"
      },
      "outputs": [],
      "source": [
        "from torch.optim.lr_scheduler import StepLR\n",
        "class PolicyGradientAgent():\n",
        "    \n",
        "    def __init__(self, network):\n",
        "        self.network = network\n",
        "        self.optimizer = optim.Adam(self.network.parameters(), lr=0.001)\n",
        "        \n",
        "    def forward(self, state):\n",
        "        return self.network(state)\n",
        "    def learn(self, log_probs, rewards):\n",
        "        loss = (-log_probs * rewards).sum() # You don't need to revise this to pass simple baseline (but you can)\n",
        "\n",
        "        self.optimizer.zero_grad()\n",
        "        loss.backward()\n",
        "        self.optimizer.step()\n",
        "        \n",
        "    def sample(self, state):\n",
        "        action_prob = self.network(torch.FloatTensor(state))\n",
        "        action_dist = Categorical(action_prob)\n",
        "        action = action_dist.sample()\n",
        "        log_prob = action_dist.log_prob(action)\n",
        "        return action.item(), log_prob"
      ]
    },
    {
      "cell_type": "markdown",
      "metadata": {
        "id": "Awir3q6XSckN"
      },
      "source": [
        "<center><h1>Actor Critic</h1></center>"
      ]
    },
    {
      "cell_type": "code",
      "execution_count": null,
      "metadata": {
        "id": "4ZANHMn4Saa8"
      },
      "outputs": [],
      "source": [
        "class ActorCritic(nn.Module):\n",
        "    def __init__(self):\n",
        "        super(ActorCritic, self).__init__()\n",
        "        self.affine = nn.Linear(8, 128)\n",
        "        \n",
        "        self.action_layer = nn.Linear(128, 4)\n",
        "        self.value_layer = nn.Linear(128, 1)\n",
        "        \n",
        "        self.logprobs = []\n",
        "        self.state_values = []\n",
        "        self.rewards = []\n",
        "\n",
        "    def forward(self, state):\n",
        "        state = torch.from_numpy(state).float()\n",
        "        state = F.relu(self.affine(state))\n",
        "        \n",
        "        state_value = self.value_layer(state)\n",
        "        \n",
        "        action_probs = F.softmax(self.action_layer(state))\n",
        "        action_distribution = Categorical(action_probs)\n",
        "        action = action_distribution.sample()\n",
        "        \n",
        "        self.logprobs.append(action_distribution.log_prob(action))\n",
        "        self.state_values.append(state_value)\n",
        "        \n",
        "        return action.item()\n",
        "    \n",
        "    def calculateLoss(self, gamma=0.99):\n",
        "        \n",
        "        # calculating discounted rewards:\n",
        "        rewards = []\n",
        "        dis_reward = 0\n",
        "        for reward in self.rewards[::-1]:\n",
        "            dis_reward = reward + gamma * dis_reward\n",
        "            rewards.insert(0, dis_reward)\n",
        "                \n",
        "        # normalizing the rewards:\n",
        "        rewards = torch.tensor(rewards)\n",
        "        rewards = (rewards - rewards.mean()) / (rewards.std())\n",
        "        \n",
        "        loss = 0\n",
        "        for logprob, value, reward in zip(self.logprobs, self.state_values, rewards):\n",
        "            advantage = reward  - value.item()\n",
        "            action_loss = -logprob * advantage\n",
        "            value_loss = F.smooth_l1_loss(value, reward)\n",
        "            loss += (action_loss + value_loss)   \n",
        "        return loss\n",
        "    \n",
        "    def clearMemory(self):\n",
        "        del self.logprobs[:]\n",
        "        del self.state_values[:]\n",
        "        del self.rewards[:]"
      ]
    },
    {
      "cell_type": "markdown",
      "metadata": {
        "id": "ehPlnTKyRZf9"
      },
      "source": [
        "Lastly, build a network and agent to start training."
      ]
    },
    {
      "cell_type": "code",
      "execution_count": null,
      "metadata": {
        "id": "GfJIvML-RYjL"
      },
      "outputs": [],
      "source": [
        "# network = PolicyGradientNetwork()\n",
        "# agent = PolicyGradientAgent(network)\n",
        "policy = ActorCritic()\n",
        "optimizer = optim.Adam(policy.parameters(), lr=0.02, betas=(0.9,0.999))"
      ]
    },
    {
      "cell_type": "markdown",
      "metadata": {
        "id": "ouv23glgf5Qt"
      },
      "source": [
        "## Training Agent\n",
        "\n",
        "Now let's start to train our agent.\n",
        "Through taking all the interactions between agent and environment as training data, the policy network can learn from all these attempts,"
      ]
    },
    {
      "cell_type": "code",
      "execution_count": null,
      "metadata": {
        "colab": {
          "base_uri": "https://localhost:8080/",
          "height": 1000,
          "referenced_widgets": [
            "db5123b4c6384592a7823f3efcaf5589",
            "b5f2778e5cde41d6834cece187547cf1",
            "03d063d722e54225ab7a857667197fd6",
            "f0260711c24f4d77bf62d6fb497071d1",
            "2bc75c8d5542466bbf60004a46860693",
            "0d7536b5f5e843e982d05425333a5504",
            "e0d7f7f420184175a675bc23d46eb0a1",
            "0a403995c5474111a86f3d499bd1cab1",
            "ea6394cd1f5246dbafaaa65aea20741b",
            "0e1ba73a3477477895523b413cce07e0",
            "c592734843184aa6a11405ff0df28508"
          ]
        },
        "id": "vg5rxBBaf38_",
        "outputId": "b2b49bcc-d56d-4715-ad91-73f0975c3854"
      },
      "outputs": [
        {
          "output_type": "display_data",
          "data": {
            "text/plain": [
              "  0%|          | 0/600 [00:00<?, ?it/s]"
            ],
            "application/vnd.jupyter.widget-view+json": {
              "version_major": 2,
              "version_minor": 0,
              "model_id": "db5123b4c6384592a7823f3efcaf5589"
            }
          },
          "metadata": {}
        },
        {
          "output_type": "stream",
          "name": "stdout",
          "text": [
            "torch.from_numpy(rewards) looks like  torch.Size([712])\n",
            "torch.from_numpy(rewards) looks like  torch.Size([377])\n",
            "torch.from_numpy(rewards) looks like  torch.Size([384])\n",
            "torch.from_numpy(rewards) looks like  torch.Size([4026])\n",
            "torch.from_numpy(rewards) looks like  torch.Size([816])\n",
            "torch.from_numpy(rewards) looks like  torch.Size([765])\n",
            "torch.from_numpy(rewards) looks like  torch.Size([803])\n",
            "torch.from_numpy(rewards) looks like  torch.Size([1327])\n",
            "torch.from_numpy(rewards) looks like  torch.Size([1641])\n",
            "torch.from_numpy(rewards) looks like  torch.Size([2116])\n",
            "torch.from_numpy(rewards) looks like  torch.Size([3549])\n",
            "torch.from_numpy(rewards) looks like  torch.Size([2320])\n",
            "torch.from_numpy(rewards) looks like  torch.Size([1718])\n",
            "torch.from_numpy(rewards) looks like  torch.Size([1875])\n",
            "torch.from_numpy(rewards) looks like  torch.Size([2034])\n",
            "torch.from_numpy(rewards) looks like  torch.Size([2222])\n",
            "torch.from_numpy(rewards) looks like  torch.Size([3658])\n",
            "torch.from_numpy(rewards) looks like  torch.Size([3884])\n",
            "torch.from_numpy(rewards) looks like  torch.Size([4295])\n",
            "torch.from_numpy(rewards) looks like  torch.Size([4281])\n",
            "torch.from_numpy(rewards) looks like  torch.Size([4530])\n",
            "torch.from_numpy(rewards) looks like  torch.Size([5000])\n",
            "torch.from_numpy(rewards) looks like  torch.Size([5000])\n",
            "torch.from_numpy(rewards) looks like  torch.Size([5000])\n",
            "torch.from_numpy(rewards) looks like  torch.Size([5000])\n",
            "torch.from_numpy(rewards) looks like  torch.Size([5000])\n",
            "torch.from_numpy(rewards) looks like  torch.Size([4122])\n",
            "torch.from_numpy(rewards) looks like  torch.Size([4938])\n",
            "torch.from_numpy(rewards) looks like  torch.Size([4068])\n",
            "torch.from_numpy(rewards) looks like  torch.Size([3982])\n",
            "torch.from_numpy(rewards) looks like  torch.Size([3599])\n",
            "torch.from_numpy(rewards) looks like  torch.Size([1528])\n",
            "torch.from_numpy(rewards) looks like  torch.Size([3843])\n",
            "torch.from_numpy(rewards) looks like  torch.Size([2573])\n",
            "torch.from_numpy(rewards) looks like  torch.Size([2604])\n",
            "torch.from_numpy(rewards) looks like  torch.Size([3161])\n",
            "torch.from_numpy(rewards) looks like  torch.Size([3230])\n",
            "torch.from_numpy(rewards) looks like  torch.Size([2022])\n",
            "torch.from_numpy(rewards) looks like  torch.Size([2585])\n",
            "torch.from_numpy(rewards) looks like  torch.Size([1158])\n",
            "torch.from_numpy(rewards) looks like  torch.Size([1567])\n",
            "torch.from_numpy(rewards) looks like  torch.Size([2192])\n",
            "torch.from_numpy(rewards) looks like  torch.Size([2399])\n",
            "torch.from_numpy(rewards) looks like  torch.Size([1333])\n",
            "torch.from_numpy(rewards) looks like  torch.Size([1924])\n",
            "torch.from_numpy(rewards) looks like  torch.Size([1619])\n",
            "torch.from_numpy(rewards) looks like  torch.Size([2127])\n",
            "torch.from_numpy(rewards) looks like  torch.Size([2538])\n",
            "torch.from_numpy(rewards) looks like  torch.Size([1846])\n",
            "torch.from_numpy(rewards) looks like  torch.Size([1453])\n",
            "torch.from_numpy(rewards) looks like  torch.Size([1477])\n",
            "torch.from_numpy(rewards) looks like  torch.Size([2807])\n",
            "torch.from_numpy(rewards) looks like  torch.Size([1840])\n",
            "torch.from_numpy(rewards) looks like  torch.Size([2468])\n",
            "torch.from_numpy(rewards) looks like  torch.Size([2078])\n",
            "torch.from_numpy(rewards) looks like  torch.Size([1871])\n",
            "torch.from_numpy(rewards) looks like  torch.Size([1921])\n",
            "torch.from_numpy(rewards) looks like  torch.Size([1602])\n",
            "torch.from_numpy(rewards) looks like  torch.Size([1864])\n",
            "torch.from_numpy(rewards) looks like  torch.Size([2850])\n",
            "torch.from_numpy(rewards) looks like  torch.Size([1918])\n",
            "torch.from_numpy(rewards) looks like  torch.Size([1382])\n",
            "torch.from_numpy(rewards) looks like  torch.Size([1528])\n",
            "torch.from_numpy(rewards) looks like  torch.Size([3114])\n",
            "torch.from_numpy(rewards) looks like  torch.Size([1306])\n",
            "torch.from_numpy(rewards) looks like  torch.Size([1832])\n",
            "torch.from_numpy(rewards) looks like  torch.Size([2229])\n",
            "torch.from_numpy(rewards) looks like  torch.Size([2001])\n",
            "torch.from_numpy(rewards) looks like  torch.Size([2108])\n",
            "torch.from_numpy(rewards) looks like  torch.Size([3036])\n",
            "torch.from_numpy(rewards) looks like  torch.Size([1536])\n",
            "torch.from_numpy(rewards) looks like  torch.Size([2246])\n",
            "torch.from_numpy(rewards) looks like  torch.Size([2683])\n",
            "torch.from_numpy(rewards) looks like  torch.Size([2709])\n",
            "torch.from_numpy(rewards) looks like  torch.Size([3574])\n",
            "torch.from_numpy(rewards) looks like  torch.Size([1735])\n",
            "torch.from_numpy(rewards) looks like  torch.Size([1893])\n",
            "torch.from_numpy(rewards) looks like  torch.Size([2049])\n",
            "torch.from_numpy(rewards) looks like  torch.Size([2458])\n",
            "torch.from_numpy(rewards) looks like  torch.Size([2044])\n",
            "torch.from_numpy(rewards) looks like  torch.Size([4883])\n",
            "torch.from_numpy(rewards) looks like  torch.Size([4527])\n",
            "torch.from_numpy(rewards) looks like  torch.Size([3429])\n",
            "torch.from_numpy(rewards) looks like  torch.Size([4569])\n",
            "torch.from_numpy(rewards) looks like  torch.Size([3236])\n",
            "torch.from_numpy(rewards) looks like  torch.Size([4169])\n",
            "torch.from_numpy(rewards) looks like  torch.Size([3915])\n",
            "torch.from_numpy(rewards) looks like  torch.Size([3619])\n",
            "torch.from_numpy(rewards) looks like  torch.Size([3006])\n",
            "torch.from_numpy(rewards) looks like  torch.Size([2889])\n",
            "torch.from_numpy(rewards) looks like  torch.Size([2784])\n",
            "torch.from_numpy(rewards) looks like  torch.Size([4039])\n",
            "torch.from_numpy(rewards) looks like  torch.Size([3187])\n",
            "torch.from_numpy(rewards) looks like  torch.Size([4824])\n",
            "torch.from_numpy(rewards) looks like  torch.Size([4189])\n",
            "torch.from_numpy(rewards) looks like  torch.Size([3351])\n",
            "torch.from_numpy(rewards) looks like  torch.Size([4281])\n",
            "torch.from_numpy(rewards) looks like  torch.Size([3093])\n",
            "torch.from_numpy(rewards) looks like  torch.Size([3802])\n",
            "torch.from_numpy(rewards) looks like  torch.Size([4605])\n",
            "torch.from_numpy(rewards) looks like  torch.Size([4253])\n",
            "torch.from_numpy(rewards) looks like  torch.Size([4126])\n",
            "torch.from_numpy(rewards) looks like  torch.Size([4592])\n",
            "torch.from_numpy(rewards) looks like  torch.Size([3731])\n",
            "torch.from_numpy(rewards) looks like  torch.Size([4429])\n",
            "torch.from_numpy(rewards) looks like  torch.Size([3607])\n",
            "torch.from_numpy(rewards) looks like  torch.Size([3471])\n",
            "torch.from_numpy(rewards) looks like  torch.Size([4311])\n",
            "torch.from_numpy(rewards) looks like  torch.Size([4826])\n",
            "torch.from_numpy(rewards) looks like  torch.Size([3800])\n",
            "torch.from_numpy(rewards) looks like  torch.Size([4037])\n",
            "torch.from_numpy(rewards) looks like  torch.Size([3679])\n",
            "torch.from_numpy(rewards) looks like  torch.Size([4424])\n",
            "torch.from_numpy(rewards) looks like  torch.Size([2810])\n",
            "torch.from_numpy(rewards) looks like  torch.Size([2755])\n",
            "torch.from_numpy(rewards) looks like  torch.Size([2640])\n",
            "torch.from_numpy(rewards) looks like  torch.Size([3550])\n",
            "torch.from_numpy(rewards) looks like  torch.Size([2139])\n",
            "torch.from_numpy(rewards) looks like  torch.Size([2528])\n",
            "torch.from_numpy(rewards) looks like  torch.Size([2824])\n",
            "torch.from_numpy(rewards) looks like  torch.Size([2340])\n",
            "torch.from_numpy(rewards) looks like  torch.Size([2798])\n",
            "torch.from_numpy(rewards) looks like  torch.Size([2435])\n",
            "torch.from_numpy(rewards) looks like  torch.Size([1915])\n",
            "torch.from_numpy(rewards) looks like  torch.Size([1830])\n",
            "torch.from_numpy(rewards) looks like  torch.Size([3478])\n",
            "torch.from_numpy(rewards) looks like  torch.Size([1658])\n",
            "torch.from_numpy(rewards) looks like  torch.Size([1611])\n",
            "torch.from_numpy(rewards) looks like  torch.Size([1988])\n",
            "torch.from_numpy(rewards) looks like  torch.Size([2111])\n",
            "torch.from_numpy(rewards) looks like  torch.Size([1613])\n",
            "torch.from_numpy(rewards) looks like  torch.Size([1632])\n",
            "torch.from_numpy(rewards) looks like  torch.Size([2676])\n",
            "torch.from_numpy(rewards) looks like  torch.Size([1516])\n",
            "torch.from_numpy(rewards) looks like  torch.Size([1702])\n",
            "torch.from_numpy(rewards) looks like  torch.Size([2877])\n",
            "torch.from_numpy(rewards) looks like  torch.Size([2084])\n",
            "torch.from_numpy(rewards) looks like  torch.Size([1327])\n",
            "torch.from_numpy(rewards) looks like  torch.Size([2185])\n",
            "torch.from_numpy(rewards) looks like  torch.Size([1199])\n",
            "torch.from_numpy(rewards) looks like  torch.Size([3271])\n",
            "torch.from_numpy(rewards) looks like  torch.Size([3504])\n",
            "torch.from_numpy(rewards) looks like  torch.Size([1746])\n",
            "torch.from_numpy(rewards) looks like  torch.Size([2840])\n",
            "torch.from_numpy(rewards) looks like  torch.Size([2163])\n",
            "torch.from_numpy(rewards) looks like  torch.Size([1285])\n",
            "torch.from_numpy(rewards) looks like  torch.Size([1530])\n",
            "torch.from_numpy(rewards) looks like  torch.Size([1249])\n",
            "torch.from_numpy(rewards) looks like  torch.Size([2406])\n",
            "torch.from_numpy(rewards) looks like  torch.Size([2190])\n",
            "torch.from_numpy(rewards) looks like  torch.Size([2649])\n",
            "torch.from_numpy(rewards) looks like  torch.Size([1380])\n",
            "torch.from_numpy(rewards) looks like  torch.Size([2037])\n",
            "torch.from_numpy(rewards) looks like  torch.Size([2512])\n",
            "torch.from_numpy(rewards) looks like  torch.Size([2168])\n",
            "torch.from_numpy(rewards) looks like  torch.Size([2046])\n",
            "torch.from_numpy(rewards) looks like  torch.Size([2385])\n",
            "torch.from_numpy(rewards) looks like  torch.Size([2065])\n",
            "torch.from_numpy(rewards) looks like  torch.Size([2699])\n",
            "torch.from_numpy(rewards) looks like  torch.Size([2430])\n",
            "torch.from_numpy(rewards) looks like  torch.Size([1924])\n",
            "torch.from_numpy(rewards) looks like  torch.Size([4360])\n",
            "torch.from_numpy(rewards) looks like  torch.Size([1599])\n",
            "torch.from_numpy(rewards) looks like  torch.Size([2970])\n",
            "torch.from_numpy(rewards) looks like  torch.Size([2345])\n",
            "torch.from_numpy(rewards) looks like  torch.Size([2064])\n",
            "torch.from_numpy(rewards) looks like  torch.Size([3580])\n",
            "torch.from_numpy(rewards) looks like  torch.Size([3019])\n",
            "torch.from_numpy(rewards) looks like  torch.Size([4319])\n",
            "torch.from_numpy(rewards) looks like  torch.Size([2134])\n",
            "torch.from_numpy(rewards) looks like  torch.Size([3535])\n",
            "torch.from_numpy(rewards) looks like  torch.Size([1835])\n",
            "torch.from_numpy(rewards) looks like  torch.Size([2823])\n",
            "torch.from_numpy(rewards) looks like  torch.Size([2647])\n",
            "torch.from_numpy(rewards) looks like  torch.Size([1885])\n",
            "torch.from_numpy(rewards) looks like  torch.Size([3165])\n",
            "torch.from_numpy(rewards) looks like  torch.Size([3296])\n",
            "torch.from_numpy(rewards) looks like  torch.Size([2927])\n",
            "torch.from_numpy(rewards) looks like  torch.Size([2271])\n",
            "torch.from_numpy(rewards) looks like  torch.Size([2184])\n",
            "torch.from_numpy(rewards) looks like  torch.Size([1839])\n",
            "torch.from_numpy(rewards) looks like  torch.Size([1890])\n",
            "torch.from_numpy(rewards) looks like  torch.Size([2603])\n",
            "torch.from_numpy(rewards) looks like  torch.Size([2208])\n",
            "torch.from_numpy(rewards) looks like  torch.Size([2021])\n",
            "torch.from_numpy(rewards) looks like  torch.Size([3303])\n",
            "torch.from_numpy(rewards) looks like  torch.Size([3018])\n",
            "torch.from_numpy(rewards) looks like  torch.Size([1653])\n",
            "torch.from_numpy(rewards) looks like  torch.Size([2494])\n",
            "torch.from_numpy(rewards) looks like  torch.Size([2419])\n",
            "torch.from_numpy(rewards) looks like  torch.Size([1853])\n",
            "torch.from_numpy(rewards) looks like  torch.Size([1725])\n",
            "torch.from_numpy(rewards) looks like  torch.Size([3268])\n",
            "torch.from_numpy(rewards) looks like  torch.Size([1116])\n",
            "torch.from_numpy(rewards) looks like  torch.Size([2889])\n",
            "torch.from_numpy(rewards) looks like  torch.Size([2495])\n",
            "torch.from_numpy(rewards) looks like  torch.Size([2275])\n",
            "torch.from_numpy(rewards) looks like  torch.Size([1141])\n",
            "torch.from_numpy(rewards) looks like  torch.Size([1826])\n",
            "torch.from_numpy(rewards) looks like  torch.Size([3479])\n",
            "torch.from_numpy(rewards) looks like  torch.Size([2187])\n",
            "torch.from_numpy(rewards) looks like  torch.Size([2225])\n",
            "torch.from_numpy(rewards) looks like  torch.Size([1458])\n",
            "torch.from_numpy(rewards) looks like  torch.Size([2518])\n",
            "torch.from_numpy(rewards) looks like  torch.Size([2662])\n",
            "torch.from_numpy(rewards) looks like  torch.Size([2270])\n",
            "torch.from_numpy(rewards) looks like  torch.Size([2262])\n",
            "torch.from_numpy(rewards) looks like  torch.Size([1864])\n",
            "torch.from_numpy(rewards) looks like  torch.Size([2711])\n",
            "torch.from_numpy(rewards) looks like  torch.Size([3580])\n",
            "torch.from_numpy(rewards) looks like  torch.Size([2100])\n",
            "torch.from_numpy(rewards) looks like  torch.Size([3468])\n",
            "torch.from_numpy(rewards) looks like  torch.Size([2503])\n",
            "torch.from_numpy(rewards) looks like  torch.Size([2580])\n",
            "torch.from_numpy(rewards) looks like  torch.Size([2964])\n",
            "torch.from_numpy(rewards) looks like  torch.Size([2018])\n",
            "torch.from_numpy(rewards) looks like  torch.Size([2436])\n",
            "torch.from_numpy(rewards) looks like  torch.Size([2475])\n",
            "torch.from_numpy(rewards) looks like  torch.Size([2728])\n",
            "torch.from_numpy(rewards) looks like  torch.Size([1299])\n",
            "torch.from_numpy(rewards) looks like  torch.Size([2352])\n",
            "torch.from_numpy(rewards) looks like  torch.Size([2556])\n",
            "torch.from_numpy(rewards) looks like  torch.Size([2631])\n",
            "torch.from_numpy(rewards) looks like  torch.Size([2432])\n",
            "torch.from_numpy(rewards) looks like  torch.Size([2105])\n",
            "torch.from_numpy(rewards) looks like  torch.Size([1498])\n",
            "torch.from_numpy(rewards) looks like  torch.Size([2061])\n",
            "torch.from_numpy(rewards) looks like  torch.Size([3371])\n",
            "torch.from_numpy(rewards) looks like  torch.Size([2842])\n",
            "torch.from_numpy(rewards) looks like  torch.Size([2801])\n",
            "torch.from_numpy(rewards) looks like  torch.Size([3032])\n",
            "torch.from_numpy(rewards) looks like  torch.Size([2528])\n",
            "torch.from_numpy(rewards) looks like  torch.Size([2250])\n",
            "torch.from_numpy(rewards) looks like  torch.Size([2548])\n",
            "torch.from_numpy(rewards) looks like  torch.Size([2552])\n",
            "torch.from_numpy(rewards) looks like  torch.Size([2184])\n",
            "torch.from_numpy(rewards) looks like  torch.Size([2696])\n",
            "torch.from_numpy(rewards) looks like  torch.Size([2578])\n",
            "torch.from_numpy(rewards) looks like  torch.Size([1704])\n",
            "torch.from_numpy(rewards) looks like  torch.Size([2409])\n",
            "torch.from_numpy(rewards) looks like  torch.Size([1531])\n",
            "torch.from_numpy(rewards) looks like  torch.Size([2406])\n",
            "torch.from_numpy(rewards) looks like  torch.Size([2330])\n",
            "torch.from_numpy(rewards) looks like  torch.Size([2676])\n",
            "torch.from_numpy(rewards) looks like  torch.Size([2639])\n",
            "torch.from_numpy(rewards) looks like  torch.Size([1468])\n",
            "torch.from_numpy(rewards) looks like  torch.Size([1481])\n",
            "torch.from_numpy(rewards) looks like  torch.Size([2276])\n",
            "torch.from_numpy(rewards) looks like  torch.Size([1382])\n",
            "torch.from_numpy(rewards) looks like  torch.Size([2314])\n",
            "torch.from_numpy(rewards) looks like  torch.Size([1465])\n",
            "torch.from_numpy(rewards) looks like  torch.Size([1171])\n",
            "torch.from_numpy(rewards) looks like  torch.Size([1431])\n",
            "torch.from_numpy(rewards) looks like  torch.Size([1588])\n",
            "torch.from_numpy(rewards) looks like  torch.Size([1258])\n",
            "torch.from_numpy(rewards) looks like  torch.Size([1299])\n",
            "torch.from_numpy(rewards) looks like  torch.Size([1828])\n",
            "torch.from_numpy(rewards) looks like  torch.Size([938])\n",
            "torch.from_numpy(rewards) looks like  torch.Size([987])\n",
            "torch.from_numpy(rewards) looks like  torch.Size([1749])\n",
            "torch.from_numpy(rewards) looks like  torch.Size([1713])\n",
            "torch.from_numpy(rewards) looks like  torch.Size([2598])\n",
            "torch.from_numpy(rewards) looks like  torch.Size([902])\n",
            "torch.from_numpy(rewards) looks like  torch.Size([918])\n",
            "torch.from_numpy(rewards) looks like  torch.Size([2679])\n",
            "torch.from_numpy(rewards) looks like  torch.Size([1415])\n",
            "torch.from_numpy(rewards) looks like  torch.Size([4808])\n",
            "torch.from_numpy(rewards) looks like  torch.Size([2260])\n",
            "torch.from_numpy(rewards) looks like  torch.Size([2774])\n",
            "torch.from_numpy(rewards) looks like  torch.Size([2228])\n",
            "torch.from_numpy(rewards) looks like  torch.Size([2394])\n",
            "torch.from_numpy(rewards) looks like  torch.Size([1600])\n",
            "torch.from_numpy(rewards) looks like  torch.Size([2208])\n",
            "torch.from_numpy(rewards) looks like  torch.Size([2369])\n",
            "torch.from_numpy(rewards) looks like  torch.Size([3034])\n",
            "torch.from_numpy(rewards) looks like  torch.Size([1977])\n",
            "torch.from_numpy(rewards) looks like  torch.Size([1520])\n",
            "torch.from_numpy(rewards) looks like  torch.Size([3189])\n",
            "torch.from_numpy(rewards) looks like  torch.Size([2757])\n",
            "torch.from_numpy(rewards) looks like  torch.Size([1635])\n",
            "torch.from_numpy(rewards) looks like  torch.Size([2658])\n",
            "torch.from_numpy(rewards) looks like  torch.Size([3088])\n",
            "torch.from_numpy(rewards) looks like  torch.Size([2346])\n",
            "torch.from_numpy(rewards) looks like  torch.Size([2170])\n",
            "torch.from_numpy(rewards) looks like  torch.Size([1573])\n",
            "torch.from_numpy(rewards) looks like  torch.Size([2856])\n",
            "torch.from_numpy(rewards) looks like  torch.Size([1848])\n",
            "torch.from_numpy(rewards) looks like  torch.Size([1789])\n",
            "torch.from_numpy(rewards) looks like  torch.Size([2255])\n",
            "torch.from_numpy(rewards) looks like  torch.Size([2106])\n",
            "torch.from_numpy(rewards) looks like  torch.Size([3063])\n",
            "torch.from_numpy(rewards) looks like  torch.Size([1957])\n",
            "torch.from_numpy(rewards) looks like  torch.Size([1432])\n",
            "torch.from_numpy(rewards) looks like  torch.Size([1975])\n",
            "torch.from_numpy(rewards) looks like  torch.Size([1489])\n",
            "torch.from_numpy(rewards) looks like  torch.Size([2605])\n",
            "torch.from_numpy(rewards) looks like  torch.Size([1440])\n",
            "torch.from_numpy(rewards) looks like  torch.Size([1693])\n",
            "torch.from_numpy(rewards) looks like  torch.Size([1963])\n",
            "torch.from_numpy(rewards) looks like  torch.Size([2340])\n",
            "torch.from_numpy(rewards) looks like  torch.Size([2074])\n",
            "torch.from_numpy(rewards) looks like  torch.Size([1617])\n",
            "torch.from_numpy(rewards) looks like  torch.Size([2503])\n",
            "torch.from_numpy(rewards) looks like  torch.Size([1467])\n",
            "torch.from_numpy(rewards) looks like  torch.Size([1994])\n",
            "torch.from_numpy(rewards) looks like  torch.Size([2805])\n",
            "torch.from_numpy(rewards) looks like  torch.Size([2304])\n",
            "torch.from_numpy(rewards) looks like  torch.Size([2280])\n",
            "torch.from_numpy(rewards) looks like  torch.Size([3464])\n",
            "torch.from_numpy(rewards) looks like  torch.Size([2644])\n",
            "torch.from_numpy(rewards) looks like  torch.Size([3223])\n",
            "torch.from_numpy(rewards) looks like  torch.Size([1810])\n",
            "torch.from_numpy(rewards) looks like  torch.Size([1700])\n",
            "torch.from_numpy(rewards) looks like  torch.Size([2058])\n",
            "torch.from_numpy(rewards) looks like  torch.Size([3981])\n",
            "torch.from_numpy(rewards) looks like  torch.Size([1374])\n",
            "torch.from_numpy(rewards) looks like  torch.Size([1751])\n",
            "torch.from_numpy(rewards) looks like  torch.Size([1706])\n",
            "torch.from_numpy(rewards) looks like  torch.Size([2261])\n",
            "torch.from_numpy(rewards) looks like  torch.Size([2256])\n",
            "torch.from_numpy(rewards) looks like  torch.Size([1244])\n",
            "torch.from_numpy(rewards) looks like  torch.Size([1788])\n",
            "torch.from_numpy(rewards) looks like  torch.Size([1694])\n",
            "torch.from_numpy(rewards) looks like  torch.Size([2004])\n",
            "torch.from_numpy(rewards) looks like  torch.Size([2076])\n",
            "torch.from_numpy(rewards) looks like  torch.Size([2433])\n",
            "torch.from_numpy(rewards) looks like  torch.Size([1787])\n",
            "torch.from_numpy(rewards) looks like  torch.Size([1238])\n",
            "torch.from_numpy(rewards) looks like  torch.Size([1175])\n",
            "torch.from_numpy(rewards) looks like  torch.Size([1488])\n",
            "torch.from_numpy(rewards) looks like  torch.Size([1783])\n",
            "torch.from_numpy(rewards) looks like  torch.Size([2339])\n",
            "torch.from_numpy(rewards) looks like  torch.Size([1437])\n",
            "torch.from_numpy(rewards) looks like  torch.Size([1654])\n",
            "torch.from_numpy(rewards) looks like  torch.Size([2813])\n",
            "torch.from_numpy(rewards) looks like  torch.Size([1357])\n",
            "torch.from_numpy(rewards) looks like  torch.Size([1771])\n",
            "torch.from_numpy(rewards) looks like  torch.Size([1322])\n",
            "torch.from_numpy(rewards) looks like  torch.Size([2927])\n",
            "torch.from_numpy(rewards) looks like  torch.Size([2881])\n",
            "torch.from_numpy(rewards) looks like  torch.Size([1676])\n",
            "torch.from_numpy(rewards) looks like  torch.Size([1172])\n",
            "torch.from_numpy(rewards) looks like  torch.Size([1758])\n",
            "torch.from_numpy(rewards) looks like  torch.Size([1931])\n",
            "torch.from_numpy(rewards) looks like  torch.Size([1238])\n",
            "torch.from_numpy(rewards) looks like  torch.Size([2287])\n",
            "torch.from_numpy(rewards) looks like  torch.Size([1780])\n",
            "torch.from_numpy(rewards) looks like  torch.Size([1085])\n",
            "torch.from_numpy(rewards) looks like  torch.Size([1322])\n",
            "torch.from_numpy(rewards) looks like  torch.Size([2508])\n",
            "torch.from_numpy(rewards) looks like  torch.Size([2695])\n",
            "torch.from_numpy(rewards) looks like  torch.Size([2751])\n",
            "torch.from_numpy(rewards) looks like  torch.Size([2151])\n",
            "torch.from_numpy(rewards) looks like  torch.Size([1370])\n",
            "torch.from_numpy(rewards) looks like  torch.Size([1467])\n",
            "torch.from_numpy(rewards) looks like  torch.Size([1413])\n",
            "torch.from_numpy(rewards) looks like  torch.Size([2375])\n",
            "torch.from_numpy(rewards) looks like  torch.Size([3003])\n",
            "torch.from_numpy(rewards) looks like  torch.Size([2411])\n",
            "torch.from_numpy(rewards) looks like  torch.Size([2803])\n",
            "torch.from_numpy(rewards) looks like  torch.Size([3726])\n",
            "torch.from_numpy(rewards) looks like  torch.Size([2694])\n",
            "torch.from_numpy(rewards) looks like  torch.Size([2297])\n",
            "torch.from_numpy(rewards) looks like  torch.Size([2866])\n",
            "torch.from_numpy(rewards) looks like  torch.Size([2041])\n",
            "torch.from_numpy(rewards) looks like  torch.Size([1274])\n",
            "torch.from_numpy(rewards) looks like  torch.Size([1129])\n",
            "torch.from_numpy(rewards) looks like  torch.Size([3017])\n",
            "torch.from_numpy(rewards) looks like  torch.Size([2238])\n",
            "torch.from_numpy(rewards) looks like  torch.Size([2386])\n",
            "torch.from_numpy(rewards) looks like  torch.Size([1436])\n",
            "torch.from_numpy(rewards) looks like  torch.Size([1545])\n",
            "torch.from_numpy(rewards) looks like  torch.Size([2344])\n",
            "torch.from_numpy(rewards) looks like  torch.Size([2020])\n",
            "torch.from_numpy(rewards) looks like  torch.Size([1936])\n",
            "torch.from_numpy(rewards) looks like  torch.Size([2042])\n",
            "torch.from_numpy(rewards) looks like  torch.Size([1166])\n",
            "torch.from_numpy(rewards) looks like  torch.Size([1400])\n",
            "torch.from_numpy(rewards) looks like  torch.Size([2026])\n",
            "torch.from_numpy(rewards) looks like  torch.Size([1502])\n",
            "torch.from_numpy(rewards) looks like  torch.Size([1276])\n",
            "torch.from_numpy(rewards) looks like  torch.Size([1294])\n",
            "torch.from_numpy(rewards) looks like  torch.Size([1124])\n",
            "torch.from_numpy(rewards) looks like  torch.Size([1616])\n",
            "torch.from_numpy(rewards) looks like  torch.Size([1892])\n",
            "torch.from_numpy(rewards) looks like  torch.Size([1152])\n",
            "torch.from_numpy(rewards) looks like  torch.Size([1107])\n",
            "torch.from_numpy(rewards) looks like  torch.Size([1823])\n",
            "torch.from_numpy(rewards) looks like  torch.Size([1155])\n",
            "torch.from_numpy(rewards) looks like  torch.Size([1832])\n",
            "torch.from_numpy(rewards) looks like  torch.Size([1700])\n",
            "torch.from_numpy(rewards) looks like  torch.Size([801])\n",
            "torch.from_numpy(rewards) looks like  torch.Size([1060])\n",
            "torch.from_numpy(rewards) looks like  torch.Size([900])\n",
            "torch.from_numpy(rewards) looks like  torch.Size([982])\n",
            "torch.from_numpy(rewards) looks like  torch.Size([1019])\n",
            "torch.from_numpy(rewards) looks like  torch.Size([1866])\n",
            "torch.from_numpy(rewards) looks like  torch.Size([942])\n",
            "torch.from_numpy(rewards) looks like  torch.Size([896])\n",
            "torch.from_numpy(rewards) looks like  torch.Size([1341])\n",
            "torch.from_numpy(rewards) looks like  torch.Size([1149])\n",
            "torch.from_numpy(rewards) looks like  torch.Size([1600])\n",
            "torch.from_numpy(rewards) looks like  torch.Size([1056])\n",
            "torch.from_numpy(rewards) looks like  torch.Size([856])\n",
            "torch.from_numpy(rewards) looks like  torch.Size([2169])\n",
            "torch.from_numpy(rewards) looks like  torch.Size([894])\n",
            "torch.from_numpy(rewards) looks like  torch.Size([821])\n",
            "torch.from_numpy(rewards) looks like  torch.Size([1486])\n",
            "torch.from_numpy(rewards) looks like  torch.Size([1786])\n",
            "torch.from_numpy(rewards) looks like  torch.Size([1080])\n",
            "torch.from_numpy(rewards) looks like  torch.Size([1679])\n",
            "torch.from_numpy(rewards) looks like  torch.Size([1635])\n",
            "torch.from_numpy(rewards) looks like  torch.Size([2122])\n",
            "torch.from_numpy(rewards) looks like  torch.Size([1388])\n",
            "torch.from_numpy(rewards) looks like  torch.Size([1565])\n",
            "torch.from_numpy(rewards) looks like  torch.Size([1510])\n",
            "torch.from_numpy(rewards) looks like  torch.Size([1773])\n",
            "torch.from_numpy(rewards) looks like  torch.Size([1145])\n",
            "torch.from_numpy(rewards) looks like  torch.Size([1439])\n",
            "torch.from_numpy(rewards) looks like  torch.Size([1314])\n",
            "torch.from_numpy(rewards) looks like  torch.Size([976])\n",
            "torch.from_numpy(rewards) looks like  torch.Size([1848])\n",
            "torch.from_numpy(rewards) looks like  torch.Size([2146])\n",
            "torch.from_numpy(rewards) looks like  torch.Size([1245])\n",
            "torch.from_numpy(rewards) looks like  torch.Size([1193])\n",
            "torch.from_numpy(rewards) looks like  torch.Size([1494])\n",
            "torch.from_numpy(rewards) looks like  torch.Size([1914])\n",
            "torch.from_numpy(rewards) looks like  torch.Size([3172])\n",
            "torch.from_numpy(rewards) looks like  torch.Size([1444])\n",
            "torch.from_numpy(rewards) looks like  torch.Size([1213])\n",
            "torch.from_numpy(rewards) looks like  torch.Size([2582])\n",
            "torch.from_numpy(rewards) looks like  torch.Size([2416])\n",
            "torch.from_numpy(rewards) looks like  torch.Size([1939])\n",
            "torch.from_numpy(rewards) looks like  torch.Size([2447])\n",
            "torch.from_numpy(rewards) looks like  torch.Size([800])\n",
            "torch.from_numpy(rewards) looks like  torch.Size([3064])\n",
            "torch.from_numpy(rewards) looks like  torch.Size([2938])\n",
            "torch.from_numpy(rewards) looks like  torch.Size([3593])\n",
            "torch.from_numpy(rewards) looks like  torch.Size([2770])\n",
            "torch.from_numpy(rewards) looks like  torch.Size([2685])\n",
            "torch.from_numpy(rewards) looks like  torch.Size([1507])\n",
            "torch.from_numpy(rewards) looks like  torch.Size([1966])\n",
            "torch.from_numpy(rewards) looks like  torch.Size([2406])\n",
            "torch.from_numpy(rewards) looks like  torch.Size([1389])\n",
            "torch.from_numpy(rewards) looks like  torch.Size([2024])\n",
            "torch.from_numpy(rewards) looks like  torch.Size([1918])\n",
            "torch.from_numpy(rewards) looks like  torch.Size([1483])\n",
            "torch.from_numpy(rewards) looks like  torch.Size([1796])\n",
            "torch.from_numpy(rewards) looks like  torch.Size([2491])\n",
            "torch.from_numpy(rewards) looks like  torch.Size([2583])\n",
            "torch.from_numpy(rewards) looks like  torch.Size([1370])\n",
            "torch.from_numpy(rewards) looks like  torch.Size([2605])\n",
            "torch.from_numpy(rewards) looks like  torch.Size([3201])\n",
            "torch.from_numpy(rewards) looks like  torch.Size([2008])\n",
            "torch.from_numpy(rewards) looks like  torch.Size([2438])\n",
            "torch.from_numpy(rewards) looks like  torch.Size([2185])\n",
            "torch.from_numpy(rewards) looks like  torch.Size([1050])\n",
            "torch.from_numpy(rewards) looks like  torch.Size([2139])\n",
            "torch.from_numpy(rewards) looks like  torch.Size([2634])\n",
            "torch.from_numpy(rewards) looks like  torch.Size([1101])\n",
            "torch.from_numpy(rewards) looks like  torch.Size([1887])\n",
            "torch.from_numpy(rewards) looks like  torch.Size([3526])\n",
            "torch.from_numpy(rewards) looks like  torch.Size([2730])\n",
            "torch.from_numpy(rewards) looks like  torch.Size([1555])\n",
            "torch.from_numpy(rewards) looks like  torch.Size([1736])\n",
            "torch.from_numpy(rewards) looks like  torch.Size([2173])\n",
            "torch.from_numpy(rewards) looks like  torch.Size([2447])\n",
            "torch.from_numpy(rewards) looks like  torch.Size([1951])\n",
            "torch.from_numpy(rewards) looks like  torch.Size([1024])\n",
            "torch.from_numpy(rewards) looks like  torch.Size([1338])\n",
            "torch.from_numpy(rewards) looks like  torch.Size([1856])\n",
            "torch.from_numpy(rewards) looks like  torch.Size([1267])\n",
            "torch.from_numpy(rewards) looks like  torch.Size([1399])\n",
            "torch.from_numpy(rewards) looks like  torch.Size([1694])\n",
            "torch.from_numpy(rewards) looks like  torch.Size([1868])\n",
            "torch.from_numpy(rewards) looks like  torch.Size([1123])\n",
            "torch.from_numpy(rewards) looks like  torch.Size([2322])\n",
            "torch.from_numpy(rewards) looks like  torch.Size([1602])\n",
            "torch.from_numpy(rewards) looks like  torch.Size([1583])\n",
            "torch.from_numpy(rewards) looks like  torch.Size([1325])\n",
            "torch.from_numpy(rewards) looks like  torch.Size([1664])\n",
            "torch.from_numpy(rewards) looks like  torch.Size([1531])\n",
            "torch.from_numpy(rewards) looks like  torch.Size([1573])\n",
            "torch.from_numpy(rewards) looks like  torch.Size([1214])\n",
            "torch.from_numpy(rewards) looks like  torch.Size([1449])\n",
            "torch.from_numpy(rewards) looks like  torch.Size([1914])\n",
            "torch.from_numpy(rewards) looks like  torch.Size([2048])\n",
            "torch.from_numpy(rewards) looks like  torch.Size([2996])\n",
            "torch.from_numpy(rewards) looks like  torch.Size([2247])\n",
            "torch.from_numpy(rewards) looks like  torch.Size([1815])\n",
            "torch.from_numpy(rewards) looks like  torch.Size([1884])\n",
            "torch.from_numpy(rewards) looks like  torch.Size([1576])\n",
            "torch.from_numpy(rewards) looks like  torch.Size([2746])\n",
            "torch.from_numpy(rewards) looks like  torch.Size([2229])\n",
            "torch.from_numpy(rewards) looks like  torch.Size([1385])\n",
            "torch.from_numpy(rewards) looks like  torch.Size([2783])\n",
            "torch.from_numpy(rewards) looks like  torch.Size([1796])\n",
            "torch.from_numpy(rewards) looks like  torch.Size([2324])\n",
            "torch.from_numpy(rewards) looks like  torch.Size([2068])\n",
            "torch.from_numpy(rewards) looks like  torch.Size([2075])\n",
            "torch.from_numpy(rewards) looks like  torch.Size([1672])\n",
            "torch.from_numpy(rewards) looks like  torch.Size([1205])\n",
            "torch.from_numpy(rewards) looks like  torch.Size([1267])\n",
            "torch.from_numpy(rewards) looks like  torch.Size([3094])\n",
            "torch.from_numpy(rewards) looks like  torch.Size([2281])\n",
            "torch.from_numpy(rewards) looks like  torch.Size([1837])\n",
            "torch.from_numpy(rewards) looks like  torch.Size([2988])\n",
            "torch.from_numpy(rewards) looks like  torch.Size([1450])\n",
            "torch.from_numpy(rewards) looks like  torch.Size([2260])\n",
            "torch.from_numpy(rewards) looks like  torch.Size([2337])\n",
            "torch.from_numpy(rewards) looks like  torch.Size([1462])\n",
            "torch.from_numpy(rewards) looks like  torch.Size([1682])\n",
            "torch.from_numpy(rewards) looks like  torch.Size([2336])\n",
            "torch.from_numpy(rewards) looks like  torch.Size([1470])\n",
            "torch.from_numpy(rewards) looks like  torch.Size([1571])\n",
            "torch.from_numpy(rewards) looks like  torch.Size([2009])\n",
            "torch.from_numpy(rewards) looks like  torch.Size([816])\n",
            "torch.from_numpy(rewards) looks like  torch.Size([868])\n",
            "torch.from_numpy(rewards) looks like  torch.Size([1453])\n",
            "torch.from_numpy(rewards) looks like  torch.Size([953])\n",
            "torch.from_numpy(rewards) looks like  torch.Size([2018])\n",
            "torch.from_numpy(rewards) looks like  torch.Size([815])\n",
            "torch.from_numpy(rewards) looks like  torch.Size([959])\n",
            "torch.from_numpy(rewards) looks like  torch.Size([1263])\n",
            "torch.from_numpy(rewards) looks like  torch.Size([1681])\n",
            "torch.from_numpy(rewards) looks like  torch.Size([951])\n",
            "torch.from_numpy(rewards) looks like  torch.Size([1150])\n",
            "torch.from_numpy(rewards) looks like  torch.Size([1489])\n",
            "torch.from_numpy(rewards) looks like  torch.Size([1165])\n",
            "torch.from_numpy(rewards) looks like  torch.Size([865])\n",
            "torch.from_numpy(rewards) looks like  torch.Size([2059])\n",
            "torch.from_numpy(rewards) looks like  torch.Size([765])\n",
            "torch.from_numpy(rewards) looks like  torch.Size([815])\n",
            "torch.from_numpy(rewards) looks like  torch.Size([1201])\n",
            "torch.from_numpy(rewards) looks like  torch.Size([1049])\n",
            "torch.from_numpy(rewards) looks like  torch.Size([909])\n",
            "torch.from_numpy(rewards) looks like  torch.Size([724])\n",
            "torch.from_numpy(rewards) looks like  torch.Size([1273])\n",
            "torch.from_numpy(rewards) looks like  torch.Size([857])\n",
            "torch.from_numpy(rewards) looks like  torch.Size([980])\n",
            "torch.from_numpy(rewards) looks like  torch.Size([2303])\n",
            "torch.from_numpy(rewards) looks like  torch.Size([1150])\n",
            "torch.from_numpy(rewards) looks like  torch.Size([2173])\n",
            "torch.from_numpy(rewards) looks like  torch.Size([1726])\n",
            "torch.from_numpy(rewards) looks like  torch.Size([1231])\n",
            "torch.from_numpy(rewards) looks like  torch.Size([1510])\n",
            "torch.from_numpy(rewards) looks like  torch.Size([897])\n",
            "torch.from_numpy(rewards) looks like  torch.Size([1128])\n",
            "torch.from_numpy(rewards) looks like  torch.Size([2691])\n",
            "torch.from_numpy(rewards) looks like  torch.Size([2597])\n",
            "torch.from_numpy(rewards) looks like  torch.Size([2605])\n",
            "torch.from_numpy(rewards) looks like  torch.Size([1139])\n",
            "torch.from_numpy(rewards) looks like  torch.Size([1480])\n",
            "torch.from_numpy(rewards) looks like  torch.Size([927])\n",
            "torch.from_numpy(rewards) looks like  torch.Size([770])\n",
            "torch.from_numpy(rewards) looks like  torch.Size([835])\n",
            "torch.from_numpy(rewards) looks like  torch.Size([2061])\n",
            "torch.from_numpy(rewards) looks like  torch.Size([1255])\n",
            "torch.from_numpy(rewards) looks like  torch.Size([788])\n",
            "torch.from_numpy(rewards) looks like  torch.Size([1843])\n",
            "torch.from_numpy(rewards) looks like  torch.Size([2417])\n",
            "torch.from_numpy(rewards) looks like  torch.Size([2187])\n",
            "torch.from_numpy(rewards) looks like  torch.Size([1066])\n",
            "torch.from_numpy(rewards) looks like  torch.Size([1304])\n",
            "torch.from_numpy(rewards) looks like  torch.Size([874])\n",
            "torch.from_numpy(rewards) looks like  torch.Size([869])\n",
            "torch.from_numpy(rewards) looks like  torch.Size([1136])\n",
            "torch.from_numpy(rewards) looks like  torch.Size([1083])\n",
            "torch.from_numpy(rewards) looks like  torch.Size([1077])\n",
            "torch.from_numpy(rewards) looks like  torch.Size([1766])\n",
            "torch.from_numpy(rewards) looks like  torch.Size([852])\n",
            "torch.from_numpy(rewards) looks like  torch.Size([761])\n",
            "torch.from_numpy(rewards) looks like  torch.Size([2482])\n",
            "torch.from_numpy(rewards) looks like  torch.Size([1513])\n",
            "torch.from_numpy(rewards) looks like  torch.Size([1570])\n",
            "torch.from_numpy(rewards) looks like  torch.Size([1748])\n",
            "torch.from_numpy(rewards) looks like  torch.Size([985])\n",
            "torch.from_numpy(rewards) looks like  torch.Size([2673])\n",
            "torch.from_numpy(rewards) looks like  torch.Size([1747])\n",
            "torch.from_numpy(rewards) looks like  torch.Size([1329])\n",
            "torch.from_numpy(rewards) looks like  torch.Size([2025])\n",
            "torch.from_numpy(rewards) looks like  torch.Size([1284])\n",
            "torch.from_numpy(rewards) looks like  torch.Size([1127])\n",
            "torch.from_numpy(rewards) looks like  torch.Size([1480])\n",
            "torch.from_numpy(rewards) looks like  torch.Size([1167])\n",
            "torch.from_numpy(rewards) looks like  torch.Size([2064])\n",
            "torch.from_numpy(rewards) looks like  torch.Size([1731])\n",
            "torch.from_numpy(rewards) looks like  torch.Size([1293])\n",
            "torch.from_numpy(rewards) looks like  torch.Size([1659])\n",
            "torch.from_numpy(rewards) looks like  torch.Size([1171])\n",
            "torch.from_numpy(rewards) looks like  torch.Size([788])\n",
            "torch.from_numpy(rewards) looks like  torch.Size([1533])\n",
            "torch.from_numpy(rewards) looks like  torch.Size([1738])\n",
            "torch.from_numpy(rewards) looks like  torch.Size([1451])\n",
            "torch.from_numpy(rewards) looks like  torch.Size([810])\n",
            "torch.from_numpy(rewards) looks like  torch.Size([1163])\n",
            "torch.from_numpy(rewards) looks like  torch.Size([1113])\n",
            "torch.from_numpy(rewards) looks like  torch.Size([796])\n",
            "torch.from_numpy(rewards) looks like  torch.Size([1540])\n",
            "torch.from_numpy(rewards) looks like  torch.Size([1063])\n"
          ]
        }
      ],
      "source": [
        "agent.network.train()  # Switch network into training mode \n",
        "EPISODE_PER_BATCH = 5  # update the  agent every 5 episode\n",
        "NUM_BATCH = 2000       # totally update the agent for 400 time\n",
        "\n",
        "avg_total_rewards, avg_final_rewards = [], []\n",
        "\n",
        "prg_bar = tqdm(range(NUM_BATCH))\n",
        "for batch in prg_bar:\n",
        "\n",
        "    log_probs, rewards = [], []\n",
        "    total_rewards, final_rewards = [], []\n",
        "\n",
        "    # collect trajectory\n",
        "    for episode in range(EPISODE_PER_BATCH):\n",
        "        \n",
        "        state = env.reset()\n",
        "        total_reward, total_step = 0, 0\n",
        "        seq_rewards = []\n",
        "        while True:\n",
        "\n",
        "            action = policy(state)\n",
        "            next_state, reward, done, _ = env.step(action)\n",
        "\n",
        "            # log_probs.append(log_prob) # [log(a1|s1), log(a2|s2), ...., log(at|st)]\n",
        "            # seq_rewards.append(reward)\n",
        "            state = next_state\n",
        "            total_reward += reward\n",
        "            total_step += 1\n",
        "            # rewards.append(reward) # change here\n",
        "            # ! IMPORTANT !\n",
        "            # Current reward implementation: immediate reward,  given action_list : a1, a2, a3 ......\n",
        "            #                                                         rewards :     r1, r2 ,r3 ......\n",
        "            # medium：change \"rewards\" to accumulative decaying reward, given action_list : a1,                           a2,                           a3, ......\n",
        "            #                                                           rewards :           r1+0.99*r2+0.99^2*r3+......, r2+0.99*r3+0.99^2*r4+...... ,  r3+0.99*r4+0.99^2*r5+ ......\n",
        "            # boss : implement Actor-Critic\n",
        "            for i in range(len(policy.reward))\n",
        "            if done:\n",
        "                final_rewards.append(reward)\n",
        "                total_rewards.append(total_reward)\n",
        "                \n",
        "                break\n",
        "\n",
        "    # print(f\"rewards looks like \", np.shape(rewards))  \n",
        "    # print(f\"log_probs looks like \", np.shape(log_probs))     \n",
        "    # record training process\n",
        "    avg_total_reward = sum(total_rewards) / len(total_rewards)\n",
        "    avg_final_reward = sum(final_rewards) / len(final_rewards)\n",
        "    avg_total_rewards.append(avg_total_reward)\n",
        "    avg_final_rewards.append(avg_final_reward)\n",
        "    prg_bar.set_description(f\"Total: {avg_total_reward: 4.1f}, Final: {avg_final_reward: 4.1f}\")\n",
        "\n",
        "    # update agent\n",
        "    # rewards = np.concatenate(rewards, axis=0)\n",
        "    rewards = (rewards - np.mean(rewards)) / (np.std(rewards) + 1e-9)  # normalize the reward \n",
        "    # agent.learn(torch.stack(log_probs), torch.from_numpy(rewards))\n",
        "    optimizer.zero_grad()\n",
        "    loss = policy.calculateLoss(gamma)\n",
        "    loss.backward()\n",
        "    optimizer.step()        \n",
        "    print(\"torch.from_numpy(rewards) looks like \", torch.from_numpy(rewards).size())\n",
        "    policy.clearMemory()\n",
        "    # print(\"logs prob looks like \", torch.stack(log_probs).size())"
      ]
    },
    {
      "cell_type": "markdown",
      "metadata": {
        "id": "vNb_tuFYhKVK"
      },
      "source": [
        "### Training Result\n",
        "During the training process, we recorded `avg_total_reward`, which represents the average total reward of episodes before updating the policy network.\n",
        "\n",
        "Theoretically, if the agent becomes better, the `avg_total_reward` will increase.\n",
        "The visualization of the training process is shown below:  \n"
      ]
    },
    {
      "cell_type": "code",
      "execution_count": null,
      "metadata": {
        "colab": {
          "base_uri": "https://localhost:8080/",
          "height": 281
        },
        "id": "wZYOI8H10SHN",
        "outputId": "c2afdd61-a50d-4fe1-a453-d5dbba1cba52"
      },
      "outputs": [
        {
          "output_type": "display_data",
          "data": {
            "text/plain": [
              "<Figure size 432x288 with 1 Axes>"
            ],
            "image/png": "[encoded data removed]"
          },
          "metadata": {
            "needs_background": "light"
          }
        }
      ],
      "source": [
        "plt.plot(avg_total_rewards)\n",
        "plt.title(\"Total Rewards\")\n",
        "plt.show()"
      ]
    },
    {
      "cell_type": "markdown",
      "metadata": {
        "id": "mV5jj4dThz0Y"
      },
      "source": [
        "In addition, `avg_final_reward` represents average final rewards of episodes. To be specific, final rewards is the last reward received in one episode, indicating whether the craft lands successfully or not.\n"
      ]
    },
    {
      "cell_type": "code",
      "execution_count": null,
      "metadata": {
        "colab": {
          "base_uri": "https://localhost:8080/",
          "height": 281
        },
        "id": "txDZ5vlGWz5w",
        "outputId": "94896956-40ec-48f8-ec36-5b6be315cd84"
      },
      "outputs": [
        {
          "output_type": "display_data",
          "data": {
            "text/plain": [
              "<Figure size 432x288 with 1 Axes>"
            ],
            "image/png": "[encoded data removed]"
          },
          "metadata": {
            "needs_background": "light"
          }
        }
      ],
      "source": [
        "plt.plot(avg_final_rewards)\n",
        "plt.title(\"Final Rewards\")\n",
        "plt.show()"
      ]
    },
    {
      "cell_type": "markdown",
      "metadata": {
        "id": "u2HaGRVEYGQS"
      },
      "source": [
        "## Testing\n",
        "The testing result will be the average reward of 5 testing"
      ]
    },
    {
      "cell_type": "code",
      "execution_count": null,
      "metadata": {
        "colab": {
          "base_uri": "https://localhost:8080/",
          "height": 391
        },
        "id": "5yFuUKKRYH73",
        "outputId": "f8db1862-6006-4b68-eb92-1cd9a592b62e"
      },
      "outputs": [
        {
          "output_type": "stream",
          "name": "stderr",
          "text": [
            "/usr/local/lib/python3.7/dist-packages/torch/__init__.py:422: UserWarning: torch.set_deterministic is deprecated and will be removed in a future release. Please use torch.use_deterministic_algorithms instead\n",
            "  \"torch.set_deterministic is deprecated and will be removed in a future \"\n"
          ]
        },
        {
          "output_type": "stream",
          "name": "stdout",
          "text": [
            "238.11710847340476\n",
            "6.3678770576537715\n",
            "290.2943713733229\n",
            "65.51659022406574\n",
            "64.24642712974276\n"
          ]
        },
        {
          "output_type": "display_data",
          "data": {
            "text/plain": [
              "<Figure size 432x288 with 1 Axes>"
            ],
            "image/png": "[encoded data removed]"
          },
          "metadata": {
            "needs_background": "light"
          }
        }
      ],
      "source": [
        "fix(env, seed)\n",
        "policy.eval()\n",
        "NUM_OF_TEST = 5 # Do not revise this !!!\n",
        "test_total_reward = []\n",
        "action_list = []\n",
        "for i in range(NUM_OF_TEST):\n",
        "  actions = []\n",
        "  state = env.reset()\n",
        "\n",
        "  img = plt.imshow(env.render(mode='rgb_array'))\n",
        "\n",
        "  total_reward = 0\n",
        "\n",
        "  done = False\n",
        "  while not done:\n",
        "      action = policy(state)\n",
        "      actions.append(action)\n",
        "      state, reward, done, _ = env.step(action)\n",
        "\n",
        "      total_reward += reward\n",
        "\n",
        "      # img.set_data(env.render(mode='rgb_array'))\n",
        "      # display.display(plt.gcf())\n",
        "      # display.clear_output(wait=True)\n",
        "      \n",
        "  print(total_reward)\n",
        "  test_total_reward.append(total_reward)\n",
        "\n",
        "  action_list.append(actions) # save the result of testing \n"
      ]
    },
    {
      "cell_type": "code",
      "execution_count": null,
      "metadata": {
        "colab": {
          "base_uri": "https://localhost:8080/"
        },
        "id": "Aex7mcKr0J01",
        "outputId": "3bce1327-523c-4172-b79a-d1a41b479682"
      },
      "outputs": [
        {
          "output_type": "stream",
          "name": "stdout",
          "text": [
            "132.90847485163798\n"
          ]
        }
      ],
      "source": [
        "print(np.mean(test_total_reward))"
      ]
    },
    {
      "cell_type": "markdown",
      "metadata": {
        "id": "leyebGYRpqsF"
      },
      "source": [
        "Action list"
      ]
    },
    {
      "cell_type": "code",
      "execution_count": null,
      "metadata": {
        "colab": {
          "base_uri": "https://localhost:8080/"
        },
        "id": "hGAH4YWDpp4u",
        "outputId": "78692252-8ffe-4b6d-81c0-5db9fc242f35"
      },
      "outputs": [
        {
          "output_type": "stream",
          "name": "stdout",
          "text": [
            "Action list looks like  [[1, 1, 1, 1, 0, 0, 0, 0, 0, 0, 0, 3, 3, 0, 0, 0, 0, 0, 0, 3, 0, 0, 0, 0, 0, 0, 0, 0, 0, 0, 0, 0, 2, 1, 2, 2, 0, 2, 2, 1, 2, 2, 2, 2, 1, 2, 2, 2, 2, 2, 1, 2, 2, 2, 2, 2, 1, 2, 2, 2, 2, 2, 2, 2, 2, 2, 2, 2, 2, 2, 2, 2, 2, 2, 2, 2, 2, 2, 2, 2, 2, 2, 2, 2, 2, 2, 2, 2, 2, 2, 2, 2, 3, 3, 2, 3, 2, 3, 3, 2, 3, 2, 3, 3, 2, 3, 2, 3, 3, 2, 3, 3, 0, 2, 0, 2, 2, 0, 2, 1, 2, 2, 2, 2, 2, 2, 2, 1, 2, 2, 3, 2, 3, 3, 3, 3, 2, 3, 3, 3, 2, 3, 3, 3, 3, 3, 3, 3, 3, 0, 0, 3, 3, 3, 3, 3, 3, 0, 0, 0, 0, 0, 0, 0, 3, 0, 0, 0, 0, 0, 0, 0, 3, 3, 1, 1, 3, 1, 3, 1, 1, 3, 1, 1, 3, 1, 3, 1, 1, 3, 1, 1, 3, 1, 1, 3, 1, 1, 3, 1, 1, 3, 1, 1, 3, 1, 1, 3, 1, 1, 3, 1, 3, 1, 1, 3, 1, 1, 1, 3, 1, 1, 3, 1, 1, 3, 1, 3, 1, 1, 3, 1, 1, 3, 1, 1, 3, 1, 3, 1, 3, 1, 1, 1, 3, 1, 3, 1, 1, 3, 1, 1, 3, 1, 3, 1, 1, 3, 1, 3, 1, 1, 3, 1, 1, 3, 1, 1, 3, 1, 3, 1, 1, 3, 1, 1, 3, 1, 1, 3, 1, 3, 1, 1, 3, 1, 3, 1, 1, 3, 1, 3, 1, 1, 3, 1, 3, 1, 1, 3, 1, 1, 3, 1, 3, 1, 1, 3, 1, 1, 3, 1, 1, 3, 1, 1, 3, 1, 1, 3, 1, 3, 1, 1, 3, 1, 3, 1, 1, 3, 1, 1, 3, 1, 1, 3, 1, 3, 1, 1, 3, 1, 3, 1, 1, 3, 1, 1, 3, 1, 1, 3, 1, 1, 3, 1, 3, 1, 1, 3, 1, 3, 1, 1, 3, 1, 1, 3, 1, 1, 3, 1, 1, 3, 1, 1, 3, 1, 1, 3, 1, 1, 3, 1, 1, 3, 1, 1, 3, 1, 3, 1, 1, 1, 3, 1, 3, 1, 1, 3, 1, 1, 3, 1, 3, 1, 1, 3, 1, 3, 1, 1, 3, 1, 3, 1, 1, 3, 1, 3, 1, 1, 3, 1, 1, 3, 1, 1, 3, 1, 1, 3, 1, 1, 3, 1, 1, 3, 1, 1, 3, 1, 1, 3, 1, 1, 3, 1, 1, 3, 1, 1, 3, 1, 1, 3, 1, 3, 1, 1, 3, 1, 3, 1, 1, 3, 1, 1, 3, 1, 1, 3, 1, 1, 3, 1, 3, 1, 1, 3, 1, 1, 3, 1, 1, 3, 1, 1, 3, 1, 1, 1, 3, 1, 1, 3, 1, 3, 1, 3, 1, 1, 3, 1, 1, 3, 1, 1, 3, 1, 1, 3, 1, 2, 3, 3, 1, 2, 3, 3, 3, 2, 3, 3, 2, 3, 3, 3, 0, 0, 0, 0, 0, 0, 0, 0, 0, 0, 0, 0, 0, 0, 0, 0, 0, 0, 0, 0, 0, 0, 0, 0, 0, 0, 0, 0, 0, 0, 0], [3, 3, 3, 0, 3, 3, 0, 3, 0, 0, 3, 0, 0, 0, 0, 0, 0, 0, 0, 0, 0, 3, 0, 0, 0, 3, 0, 0, 0, 0, 3, 0, 0, 0, 0, 2, 2, 2, 2, 2, 2, 2, 2, 2, 2, 2, 2, 2, 2, 2, 2, 2, 2, 2, 2, 2, 2, 0, 1, 1, 1, 1, 1, 1, 2, 2, 1, 1, 2, 2, 0, 1, 2, 1, 2, 0, 0, 0, 0, 0, 2, 0, 0, 0, 0, 0, 2, 0, 0, 2, 3, 0, 2, 2, 0, 0, 2, 2, 0, 2, 2, 0, 2, 2, 0, 2, 0, 2, 0, 2, 2, 2, 2, 2, 2, 2, 2, 2, 2, 2, 2, 2, 2, 2, 2, 2, 3, 2, 2, 2, 2, 2, 2, 2, 2, 1], [3, 3, 3, 3, 3, 3, 3, 0, 0, 0, 0, 0, 0, 0, 0, 2, 2, 2, 2, 2, 2, 2, 2, 2, 2, 2, 2, 2, 2, 2, 2, 2, 2, 2, 2, 2, 2, 1, 2, 2, 1, 2, 2, 1, 2, 2, 1, 1, 2, 1, 1, 2, 2, 0, 0, 0, 3, 1, 2, 0, 2, 0, 2, 0, 2, 2, 0, 2, 0, 2, 0, 0, 2, 1, 2, 2, 2, 0, 2, 0, 0, 2, 2, 0, 0, 2, 3, 0, 0, 2, 2, 0, 2, 2, 0, 2, 2, 2, 2, 2, 0, 2, 2, 2, 2, 2, 2, 0, 2, 2, 2, 2, 1, 1, 1, 1, 1, 1, 1, 1, 1, 1, 1, 1, 1, 1, 1, 1, 1, 1, 1, 0, 1, 0, 0, 0, 0, 0, 0, 0, 0, 1, 1, 0, 2, 0, 0, 0, 0, 2, 1, 0, 0, 2, 1, 0, 3, 3, 3, 3, 3, 0, 0, 0, 0, 0, 0, 0, 0, 0, 3, 3, 0, 3, 0, 3, 3, 0, 3, 0, 3, 0, 3, 0, 3, 0, 3, 0, 3, 0, 3, 3, 0, 0, 0, 0, 0, 0, 0, 0, 0, 0, 0, 0, 0, 0, 0, 0, 0, 0, 0, 0, 0, 0, 0, 0, 0], [1, 1, 1, 1, 0, 0, 0, 1, 1, 1, 1, 1, 1, 1, 1, 1, 1, 1, 0, 0, 0, 0, 0, 0, 3, 2, 3, 2, 2, 2, 2, 3, 2, 3, 3, 3, 2, 3, 3, 3, 3, 3, 3, 2, 3, 3, 2, 3, 2, 3, 3, 0, 2, 0, 0, 0, 3, 2, 2, 0, 2, 2, 3, 2, 2, 2, 2, 0, 0, 0, 0, 2, 0, 0, 0, 0, 0, 1, 0, 1, 2, 0, 1, 2, 2, 2, 1, 2, 0, 0, 2, 2, 1, 2, 2, 2, 2, 1, 2, 2, 2, 2, 2, 2, 1, 2, 2, 2, 1, 2, 0, 2, 0, 2, 2, 2, 2, 2, 0, 2, 0, 2, 2, 2, 2, 0, 2, 0, 2, 0, 1, 2, 2, 0, 2, 0, 2, 0, 2, 3, 1, 2, 2, 3, 1, 2, 2, 3, 2, 1, 2, 2, 3, 2, 1, 2, 2, 2, 2, 2, 2, 2, 2, 2, 1, 1, 1, 1, 1], [1, 1, 1, 1, 1, 1, 1, 1, 1, 1, 1, 1, 1, 1, 1, 0, 0, 0, 0, 0, 0, 2, 2, 2, 2, 0, 2, 3, 2, 2, 3, 2, 3, 3, 2, 3, 3, 3, 3, 2, 3, 3, 3, 3, 3, 3, 2, 3, 2, 3, 3, 2, 3, 0, 0, 2, 3, 0, 2, 0, 0, 2, 3, 2, 0, 2, 2, 3, 2, 2, 2, 2, 0, 0, 2, 2, 0, 2, 0, 0, 0, 0, 0, 1, 2, 1, 2, 2, 1, 2, 2, 2, 1, 2, 2, 2, 1, 2, 2, 2, 2, 2, 1, 2, 2, 2, 1, 2, 2, 1, 2, 2, 1, 2, 2, 2, 2, 2, 1, 2, 2, 2, 2, 2, 1, 2, 2, 1, 2, 2, 2, 2, 2, 1, 2, 1, 2, 0, 0, 3, 0, 0, 3, 1, 3, 3, 1, 2, 2, 2, 3, 2, 1, 2, 3, 2, 2, 2, 2, 2, 2, 2, 2, 2, 2, 2, 1, 1, 1, 1]]\n",
            "Action list's shape looks like  (5,)\n"
          ]
        },
        {
          "output_type": "stream",
          "name": "stderr",
          "text": [
            "/usr/local/lib/python3.7/dist-packages/numpy/core/_asarray.py:83: VisibleDeprecationWarning: Creating an ndarray from ragged nested sequences (which is a list-or-tuple of lists-or-tuples-or ndarrays with different lengths or shapes) is deprecated. If you meant to do this, you must specify 'dtype=object' when creating the ndarray\n",
            "  return array(a, dtype, copy=False, order=order)\n"
          ]
        }
      ],
      "source": [
        "print(\"Action list looks like \", action_list)\n",
        "print(\"Action list's shape looks like \", np.shape(action_list))"
      ]
    },
    {
      "cell_type": "markdown",
      "metadata": {
        "id": "fNkmwucrHMen"
      },
      "source": [
        "Analysis of actions taken by agent"
      ]
    },
    {
      "cell_type": "code",
      "execution_count": null,
      "metadata": {
        "colab": {
          "base_uri": "https://localhost:8080/"
        },
        "id": "WHdAItjj1nxw",
        "outputId": "48ecafe3-c1d9-4cd8-ba8b-59a5350e26ef"
      },
      "outputs": [
        {
          "output_type": "stream",
          "name": "stdout",
          "text": [
            "{1: 342, 0: 274, 3: 262, 2: 373}\n"
          ]
        }
      ],
      "source": [
        "distribution = {}\n",
        "for actions in action_list:\n",
        "  for action in actions:\n",
        "    if action not in distribution.keys():\n",
        "      distribution[action] = 1\n",
        "    else:\n",
        "      distribution[action] += 1\n",
        "print(distribution)"
      ]
    },
    {
      "cell_type": "markdown",
      "metadata": {
        "id": "ricE0schY75M"
      },
      "source": [
        "Saving the result of Model Testing\n"
      ]
    },
    {
      "cell_type": "code",
      "execution_count": null,
      "metadata": {
        "colab": {
          "base_uri": "https://localhost:8080/"
        },
        "id": "GZsMkGmIY42b",
        "outputId": "302b27a3-2a29-4dea-fa10-583271839709"
      },
      "outputs": [
        {
          "output_type": "stream",
          "name": "stderr",
          "text": [
            "/usr/local/lib/python3.7/dist-packages/ipykernel_launcher.py:2: VisibleDeprecationWarning: Creating an ndarray from ragged nested sequences (which is a list-or-tuple of lists-or-tuples-or ndarrays with different lengths or shapes) is deprecated. If you meant to do this, you must specify 'dtype=object' when creating the ndarray\n",
            "  \n"
          ]
        }
      ],
      "source": [
        "PATH = \"Action_List.npy\" # Can be modified into the name or path you want\n",
        "np.save(PATH ,np.array(action_list)) "
      ]
    },
    {
      "cell_type": "markdown",
      "metadata": {
        "id": "asK7WfbkaLjt"
      },
      "source": [
        "### This is the file you need to submit !!!\n",
        "Download the testing result to your device\n",
        "\n"
      ]
    },
    {
      "cell_type": "code",
      "execution_count": null,
      "metadata": {
        "colab": {
          "base_uri": "https://localhost:8080/",
          "height": 17
        },
        "id": "c-CqyhHzaWAL",
        "outputId": "ab953bda-799b-4eed-bf08-10b6f1a8962f"
      },
      "outputs": [
        {
          "output_type": "display_data",
          "data": {
            "text/plain": [
              "<IPython.core.display.Javascript object>"
            ],
            "application/javascript": [
              "\n",
              "    async function download(id, filename, size) {\n",
              "      if (!google.colab.kernel.accessAllowed) {\n",
              "        return;\n",
              "      }\n",
              "      const div = document.createElement('div');\n",
              "      const label = document.createElement('label');\n",
              "      label.textContent = `Downloading \"${filename}\": `;\n",
              "      div.appendChild(label);\n",
              "      const progress = document.createElement('progress');\n",
              "      progress.max = size;\n",
              "      div.appendChild(progress);\n",
              "      document.body.appendChild(div);\n",
              "\n",
              "      const buffers = [];\n",
              "      let downloaded = 0;\n",
              "\n",
              "      const channel = await google.colab.kernel.comms.open(id);\n",
              "      // Send a message to notify the kernel that we're ready.\n",
              "      channel.send({})\n",
              "\n",
              "      for await (const message of channel.messages) {\n",
              "        // Send a message to notify the kernel that we're ready.\n",
              "        channel.send({})\n",
              "        if (message.buffers) {\n",
              "          for (const buffer of message.buffers) {\n",
              "            buffers.push(buffer);\n",
              "            downloaded += buffer.byteLength;\n",
              "            progress.value = downloaded;\n",
              "          }\n",
              "        }\n",
              "      }\n",
              "      const blob = new Blob(buffers, {type: 'application/binary'});\n",
              "      const a = document.createElement('a');\n",
              "      a.href = window.URL.createObjectURL(blob);\n",
              "      a.download = filename;\n",
              "      div.appendChild(a);\n",
              "      a.click();\n",
              "      div.remove();\n",
              "    }\n",
              "  "
            ]
          },
          "metadata": {}
        },
        {
          "output_type": "display_data",
          "data": {
            "text/plain": [
              "<IPython.core.display.Javascript object>"
            ],
            "application/javascript": [
              "download(\"download_15c12244-85c0-41fb-99c4-bc42b3657e76\", \"Action_List.npy\", 2809)"
            ]
          },
          "metadata": {}
        }
      ],
      "source": [
        "from google.colab import files\n",
        "files.download(PATH)"
      ]
    },
    {
      "cell_type": "markdown",
      "metadata": {
        "id": "seT4NUmWmAZ1"
      },
      "source": [
        "# Server \n",
        "The code below simulate the environment on the judge server. Can be used for testing."
      ]
    },
    {
      "cell_type": "code",
      "execution_count": null,
      "metadata": {
        "colab": {
          "base_uri": "https://localhost:8080/",
          "height": 235
        },
        "id": "U69c-YTxaw6b",
        "outputId": "3b31cdb4-c0d0-4719-aa82-c16a4b8424d6"
      },
      "outputs": [
        {
          "output_type": "error",
          "ename": "NameError",
          "evalue": "ignored",
          "traceback": [
            "\u001b[0;31m---------------------------------------------------------------------------\u001b[0m",
            "\u001b[0;31mNameError\u001b[0m                                 Traceback (most recent call last)",
            "\u001b[0;32m<ipython-input-1-40cc3373a0ad>\u001b[0m in \u001b[0;36m<module>\u001b[0;34m()\u001b[0m\n\u001b[0;32m----> 1\u001b[0;31m \u001b[0mfix\u001b[0m\u001b[0;34m(\u001b[0m\u001b[0menv\u001b[0m\u001b[0;34m,\u001b[0m \u001b[0mseed\u001b[0m\u001b[0;34m)\u001b[0m\u001b[0;34m\u001b[0m\u001b[0;34m\u001b[0m\u001b[0m\n\u001b[0m\u001b[1;32m      2\u001b[0m \u001b[0magent\u001b[0m\u001b[0;34m.\u001b[0m\u001b[0mmain_q_network\u001b[0m\u001b[0;34m.\u001b[0m\u001b[0meval\u001b[0m\u001b[0;34m(\u001b[0m\u001b[0;34m)\u001b[0m  \u001b[0;31m# set the network into evaluation mode\u001b[0m\u001b[0;34m\u001b[0m\u001b[0;34m\u001b[0m\u001b[0m\n\u001b[1;32m      3\u001b[0m \u001b[0mNUM_OF_TEST\u001b[0m \u001b[0;34m=\u001b[0m \u001b[0;36m5\u001b[0m \u001b[0;31m# Do not revise this !!!\u001b[0m\u001b[0;34m\u001b[0m\u001b[0;34m\u001b[0m\u001b[0m\n\u001b[1;32m      4\u001b[0m \u001b[0mtest_total_reward\u001b[0m \u001b[0;34m=\u001b[0m \u001b[0;34m[\u001b[0m\u001b[0;34m]\u001b[0m\u001b[0;34m\u001b[0m\u001b[0;34m\u001b[0m\u001b[0m\n\u001b[1;32m      5\u001b[0m \u001b[0maction_list\u001b[0m \u001b[0;34m=\u001b[0m \u001b[0;34m[\u001b[0m\u001b[0;34m]\u001b[0m\u001b[0;34m\u001b[0m\u001b[0;34m\u001b[0m\u001b[0m\n",
            "\u001b[0;31mNameError\u001b[0m: name 'fix' is not defined"
          ]
        }
      ],
      "source": [
        "fix(env, seed)\n",
        "agent.main_q_network.eval()  # set the network into evaluation mode\n",
        "NUM_OF_TEST = 5 # Do not revise this !!!\n",
        "test_total_reward = []\n",
        "action_list = []\n",
        "for i in range(NUM_OF_TEST):\n",
        "  actions = []\n",
        "  state = env.reset()\n",
        "\n",
        "  img = plt.imshow(env.render(mode='rgb_array'))\n",
        "\n",
        "  total_reward = 0\n",
        "\n",
        "  done = False\n",
        "  while not done:\n",
        "      action = agent.get_action(state, episode = i, test = True)\n",
        "      actions.append(action)\n",
        "      state, reward, done, _ = env.step(action)\n",
        "\n",
        "      total_reward += reward\n",
        "\n",
        "      # img.set_data(env.render(mode='rgb_array'))\n",
        "      # display.display(plt.gcf())\n",
        "      # display.clear_output(wait=True)\n",
        "      \n",
        "  print(total_reward)\n",
        "  test_total_reward.append(total_reward)\n",
        "\n",
        "  action_list.append(actions) # save the result of testing \n"
      ]
    },
    {
      "cell_type": "markdown",
      "metadata": {
        "id": "TjFBWwQP1hVe"
      },
      "source": [
        "# Your score"
      ]
    },
    {
      "cell_type": "code",
      "execution_count": null,
      "metadata": {
        "id": "GpJpZz3Wbm0X"
      },
      "outputs": [],
      "source": [
        "print(f\"Your final reward is : %.2f\"%np.mean(test_total_reward))"
      ]
    },
    {
      "cell_type": "markdown",
      "metadata": {
        "id": "wUBtYXG2eaqf"
      },
      "source": [
        "## Reference\n",
        "\n",
        "Below are some useful tips for you to get high score.\n",
        "\n",
        "- [DRL Lecture 1: Policy Gradient (Review)](https://youtu.be/z95ZYgPgXOY)\n",
        "- [ML Lecture 23-3: Reinforcement Learning (including Q-learning) start at 30:00](https://youtu.be/2-JNBzCq77c?t=1800)\n",
        "- [Lecture 7: Policy Gradient, David Silver](http://www0.cs.ucl.ac.uk/staff/d.silver/web/Teaching_files/pg.pdf)\n"
      ]
    }
  ],
  "metadata": {
    "colab": {
      "collapsed_sections": [],
      "name": "Copy of hw12_reinforcement_learning_english_version.ipynb",
      "provenance": []
    },
    "kernelspec": {
      "display_name": "Python 3",
      "name": "python3"
    },
    "widgets": {
      "application/vnd.jupyter.widget-state+json": {
        "db5123b4c6384592a7823f3efcaf5589": {
          "model_module": "@jupyter-widgets/controls",
          "model_name": "HBoxModel",
          "model_module_version": "1.5.0",
          "state": {
            "_dom_classes": [],
            "_model_module": "@jupyter-widgets/controls",
            "_model_module_version": "1.5.0",
            "_model_name": "HBoxModel",
            "_view_count": null,
            "_view_module": "@jupyter-widgets/controls",
            "_view_module_version": "1.5.0",
            "_view_name": "HBoxView",
            "box_style": "",
            "children": [
              "IPY_MODEL_b5f2778e5cde41d6834cece187547cf1",
              "IPY_MODEL_03d063d722e54225ab7a857667197fd6",
              "IPY_MODEL_f0260711c24f4d77bf62d6fb497071d1"
            ],
            "layout": "IPY_MODEL_2bc75c8d5542466bbf60004a46860693"
          }
        },
        "b5f2778e5cde41d6834cece187547cf1": {
          "model_module": "@jupyter-widgets/controls",
          "model_name": "HTMLModel",
          "model_module_version": "1.5.0",
          "state": {
            "_dom_classes": [],
            "_model_module": "@jupyter-widgets/controls",
            "_model_module_version": "1.5.0",
            "_model_name": "HTMLModel",
            "_view_count": null,
            "_view_module": "@jupyter-widgets/controls",
            "_view_module_version": "1.5.0",
            "_view_name": "HTMLView",
            "description": "",
            "description_tooltip": null,
            "layout": "IPY_MODEL_0d7536b5f5e843e982d05425333a5504",
            "placeholder": "​",
            "style": "IPY_MODEL_e0d7f7f420184175a675bc23d46eb0a1",
            "value": "Total:  151.1, Final:  20.0: 100%"
          }
        },
        "03d063d722e54225ab7a857667197fd6": {
          "model_module": "@jupyter-widgets/controls",
          "model_name": "FloatProgressModel",
          "model_module_version": "1.5.0",
          "state": {
            "_dom_classes": [],
            "_model_module": "@jupyter-widgets/controls",
            "_model_module_version": "1.5.0",
            "_model_name": "FloatProgressModel",
            "_view_count": null,
            "_view_module": "@jupyter-widgets/controls",
            "_view_module_version": "1.5.0",
            "_view_name": "ProgressView",
            "bar_style": "success",
            "description": "",
            "description_tooltip": null,
            "layout": "IPY_MODEL_0a403995c5474111a86f3d499bd1cab1",
            "max": 600,
            "min": 0,
            "orientation": "horizontal",
            "style": "IPY_MODEL_ea6394cd1f5246dbafaaa65aea20741b",
            "value": 600
          }
        },
        "f0260711c24f4d77bf62d6fb497071d1": {
          "model_module": "@jupyter-widgets/controls",
          "model_name": "HTMLModel",
          "model_module_version": "1.5.0",
          "state": {
            "_dom_classes": [],
            "_model_module": "@jupyter-widgets/controls",
            "_model_module_version": "1.5.0",
            "_model_name": "HTMLModel",
            "_view_count": null,
            "_view_module": "@jupyter-widgets/controls",
            "_view_module_version": "1.5.0",
            "_view_name": "HTMLView",
            "description": "",
            "description_tooltip": null,
            "layout": "IPY_MODEL_0e1ba73a3477477895523b413cce07e0",
            "placeholder": "​",
            "style": "IPY_MODEL_c592734843184aa6a11405ff0df28508",
            "value": " 600/600 [51:49&lt;00:00,  2.51s/it]"
          }
        },
        "2bc75c8d5542466bbf60004a46860693": {
          "model_module": "@jupyter-widgets/base",
          "model_name": "LayoutModel",
          "model_module_version": "1.2.0",
          "state": {
            "_model_module": "@jupyter-widgets/base",
            "_model_module_version": "1.2.0",
            "_model_name": "LayoutModel",
            "_view_count": null,
            "_view_module": "@jupyter-widgets/base",
            "_view_module_version": "1.2.0",
            "_view_name": "LayoutView",
            "align_content": null,
            "align_items": null,
            "align_self": null,
            "border": null,
            "bottom": null,
            "display": null,
            "flex": null,
            "flex_flow": null,
            "grid_area": null,
            "grid_auto_columns": null,
            "grid_auto_flow": null,
            "grid_auto_rows": null,
            "grid_column": null,
            "grid_gap": null,
            "grid_row": null,
            "grid_template_areas": null,
            "grid_template_columns": null,
            "grid_template_rows": null,
            "height": null,
            "justify_content": null,
            "justify_items": null,
            "left": null,
            "margin": null,
            "max_height": null,
            "max_width": null,
            "min_height": null,
            "min_width": null,
            "object_fit": null,
            "object_position": null,
            "order": null,
            "overflow": null,
            "overflow_x": null,
            "overflow_y": null,
            "padding": null,
            "right": null,
            "top": null,
            "visibility": null,
            "width": null
          }
        },
        "0d7536b5f5e843e982d05425333a5504": {
          "model_module": "@jupyter-widgets/base",
          "model_name": "LayoutModel",
          "model_module_version": "1.2.0",
          "state": {
            "_model_module": "@jupyter-widgets/base",
            "_model_module_version": "1.2.0",
            "_model_name": "LayoutModel",
            "_view_count": null,
            "_view_module": "@jupyter-widgets/base",
            "_view_module_version": "1.2.0",
            "_view_name": "LayoutView",
            "align_content": null,
            "align_items": null,
            "align_self": null,
            "border": null,
            "bottom": null,
            "display": null,
            "flex": null,
            "flex_flow": null,
            "grid_area": null,
            "grid_auto_columns": null,
            "grid_auto_flow": null,
            "grid_auto_rows": null,
            "grid_column": null,
            "grid_gap": null,
            "grid_row": null,
            "grid_template_areas": null,
            "grid_template_columns": null,
            "grid_template_rows": null,
            "height": null,
            "justify_content": null,
            "justify_items": null,
            "left": null,
            "margin": null,
            "max_height": null,
            "max_width": null,
            "min_height": null,
            "min_width": null,
            "object_fit": null,
            "object_position": null,
            "order": null,
            "overflow": null,
            "overflow_x": null,
            "overflow_y": null,
            "padding": null,
            "right": null,
            "top": null,
            "visibility": null,
            "width": null
          }
        },
        "e0d7f7f420184175a675bc23d46eb0a1": {
          "model_module": "@jupyter-widgets/controls",
          "model_name": "DescriptionStyleModel",
          "model_module_version": "1.5.0",
          "state": {
            "_model_module": "@jupyter-widgets/controls",
            "_model_module_version": "1.5.0",
            "_model_name": "DescriptionStyleModel",
            "_view_count": null,
            "_view_module": "@jupyter-widgets/base",
            "_view_module_version": "1.2.0",
            "_view_name": "StyleView",
            "description_width": ""
          }
        },
        "0a403995c5474111a86f3d499bd1cab1": {
          "model_module": "@jupyter-widgets/base",
          "model_name": "LayoutModel",
          "model_module_version": "1.2.0",
          "state": {
            "_model_module": "@jupyter-widgets/base",
            "_model_module_version": "1.2.0",
            "_model_name": "LayoutModel",
            "_view_count": null,
            "_view_module": "@jupyter-widgets/base",
            "_view_module_version": "1.2.0",
            "_view_name": "LayoutView",
            "align_content": null,
            "align_items": null,
            "align_self": null,
            "border": null,
            "bottom": null,
            "display": null,
            "flex": null,
            "flex_flow": null,
            "grid_area": null,
            "grid_auto_columns": null,
            "grid_auto_flow": null,
            "grid_auto_rows": null,
            "grid_column": null,
            "grid_gap": null,
            "grid_row": null,
            "grid_template_areas": null,
            "grid_template_columns": null,
            "grid_template_rows": null,
            "height": null,
            "justify_content": null,
            "justify_items": null,
            "left": null,
            "margin": null,
            "max_height": null,
            "max_width": null,
            "min_height": null,
            "min_width": null,
            "object_fit": null,
            "object_position": null,
            "order": null,
            "overflow": null,
            "overflow_x": null,
            "overflow_y": null,
            "padding": null,
            "right": null,
            "top": null,
            "visibility": null,
            "width": null
          }
        },
        "ea6394cd1f5246dbafaaa65aea20741b": {
          "model_module": "@jupyter-widgets/controls",
          "model_name": "ProgressStyleModel",
          "model_module_version": "1.5.0",
          "state": {
            "_model_module": "@jupyter-widgets/controls",
            "_model_module_version": "1.5.0",
            "_model_name": "ProgressStyleModel",
            "_view_count": null,
            "_view_module": "@jupyter-widgets/base",
            "_view_module_version": "1.2.0",
            "_view_name": "StyleView",
            "bar_color": null,
            "description_width": ""
          }
        },
        "0e1ba73a3477477895523b413cce07e0": {
          "model_module": "@jupyter-widgets/base",
          "model_name": "LayoutModel",
          "model_module_version": "1.2.0",
          "state": {
            "_model_module": "@jupyter-widgets/base",
            "_model_module_version": "1.2.0",
            "_model_name": "LayoutModel",
            "_view_count": null,
            "_view_module": "@jupyter-widgets/base",
            "_view_module_version": "1.2.0",
            "_view_name": "LayoutView",
            "align_content": null,
            "align_items": null,
            "align_self": null,
            "border": null,
            "bottom": null,
            "display": null,
            "flex": null,
            "flex_flow": null,
            "grid_area": null,
            "grid_auto_columns": null,
            "grid_auto_flow": null,
            "grid_auto_rows": null,
            "grid_column": null,
            "grid_gap": null,
            "grid_row": null,
            "grid_template_areas": null,
            "grid_template_columns": null,
            "grid_template_rows": null,
            "height": null,
            "justify_content": null,
            "justify_items": null,
            "left": null,
            "margin": null,
            "max_height": null,
            "max_width": null,
            "min_height": null,
            "min_width": null,
            "object_fit": null,
            "object_position": null,
            "order": null,
            "overflow": null,
            "overflow_x": null,
            "overflow_y": null,
            "padding": null,
            "right": null,
            "top": null,
            "visibility": null,
            "width": null
          }
        },
        "c592734843184aa6a11405ff0df28508": {
          "model_module": "@jupyter-widgets/controls",
          "model_name": "DescriptionStyleModel",
          "model_module_version": "1.5.0",
          "state": {
            "_model_module": "@jupyter-widgets/controls",
            "_model_module_version": "1.5.0",
            "_model_name": "DescriptionStyleModel",
            "_view_count": null,
            "_view_module": "@jupyter-widgets/base",
            "_view_module_version": "1.2.0",
            "_view_name": "StyleView",
            "description_width": ""
          }
        }
      }
    }
  },
  "nbformat": 4,
  "nbformat_minor": 0
}